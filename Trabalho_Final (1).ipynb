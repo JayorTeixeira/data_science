{
  "nbformat": 4,
  "nbformat_minor": 0,
  "metadata": {
    "kernelspec": {
      "display_name": "Python 3",
      "language": "python",
      "name": "python3"
    },
    "language_info": {
      "codemirror_mode": {
        "name": "ipython",
        "version": 3
      },
      "file_extension": ".py",
      "mimetype": "text/x-python",
      "name": "python",
      "nbconvert_exporter": "python",
      "pygments_lexer": "ipython3",
      "version": "3.8.5"
    },
    "colab": {
      "name": "Trabalho_Final.ipynb",
      "provenance": []
    }
  },
  "cells": [
    {
      "cell_type": "markdown",
      "metadata": {
        "id": "pJT0QwFp1MZX"
      },
      "source": [
        "#TRABALHO FINAL DE TÓPICOS ESPECIAIS II\n",
        "##**Análise de Dados e Predição de Vencedores do UFC**\n",
        "\n",
        "### Jayor Nesi Teixeira (16201994)\n",
        "### Rodrigo Bueno Guedes (15102830)"
      ]
    },
    {
      "cell_type": "markdown",
      "metadata": {
        "id": "bt6drtVL1MZh"
      },
      "source": [
        "# PRÉ PROCESSAMENTO\n",
        "# "
      ]
    },
    {
      "cell_type": "code",
      "metadata": {
        "id": "4Hc_sMnE1MZm"
      },
      "source": [
        "import numpy as np\n",
        "import pandas as pd\n",
        "import matplotlib.pyplot as plt\n",
        "import seaborn as sns"
      ],
      "execution_count": 10,
      "outputs": []
    },
    {
      "cell_type": "code",
      "metadata": {
        "id": "In_Pt7oX1MZo"
      },
      "source": [
        "dados = pd.read_csv('data.csv')"
      ],
      "execution_count": 11,
      "outputs": []
    },
    {
      "cell_type": "code",
      "metadata": {
        "colab": {
          "base_uri": "https://localhost:8080/"
        },
        "id": "n7_Ok3Az1MZs",
        "outputId": "5a46f91d-6fda-43a8-b99e-e9dae6a4838e"
      },
      "source": [
        "dados.info()"
      ],
      "execution_count": 12,
      "outputs": [
        {
          "output_type": "stream",
          "name": "stdout",
          "text": [
            "<class 'pandas.core.frame.DataFrame'>\n",
            "RangeIndex: 6012 entries, 0 to 6011\n",
            "Columns: 144 entries, R_fighter to R_age\n",
            "dtypes: bool(1), float64(106), int64(28), object(9)\n",
            "memory usage: 6.6+ MB\n"
          ]
        }
      ]
    },
    {
      "cell_type": "code",
      "metadata": {
        "colab": {
          "base_uri": "https://localhost:8080/",
          "height": 491
        },
        "id": "t_LKNh9N1MZv",
        "outputId": "e7001a0a-ba56-4213-fc3e-a98904bc34cc"
      },
      "source": [
        "dados.head()"
      ],
      "execution_count": 13,
      "outputs": [
        {
          "output_type": "execute_result",
          "data": {
            "text/html": [
              "<div>\n",
              "<style scoped>\n",
              "    .dataframe tbody tr th:only-of-type {\n",
              "        vertical-align: middle;\n",
              "    }\n",
              "\n",
              "    .dataframe tbody tr th {\n",
              "        vertical-align: top;\n",
              "    }\n",
              "\n",
              "    .dataframe thead th {\n",
              "        text-align: right;\n",
              "    }\n",
              "</style>\n",
              "<table border=\"1\" class=\"dataframe\">\n",
              "  <thead>\n",
              "    <tr style=\"text-align: right;\">\n",
              "      <th></th>\n",
              "      <th>R_fighter</th>\n",
              "      <th>B_fighter</th>\n",
              "      <th>Referee</th>\n",
              "      <th>date</th>\n",
              "      <th>location</th>\n",
              "      <th>Winner</th>\n",
              "      <th>title_bout</th>\n",
              "      <th>weight_class</th>\n",
              "      <th>B_avg_KD</th>\n",
              "      <th>B_avg_opp_KD</th>\n",
              "      <th>B_avg_SIG_STR_pct</th>\n",
              "      <th>B_avg_opp_SIG_STR_pct</th>\n",
              "      <th>B_avg_TD_pct</th>\n",
              "      <th>B_avg_opp_TD_pct</th>\n",
              "      <th>B_avg_SUB_ATT</th>\n",
              "      <th>B_avg_opp_SUB_ATT</th>\n",
              "      <th>B_avg_REV</th>\n",
              "      <th>B_avg_opp_REV</th>\n",
              "      <th>B_avg_SIG_STR_att</th>\n",
              "      <th>B_avg_SIG_STR_landed</th>\n",
              "      <th>B_avg_opp_SIG_STR_att</th>\n",
              "      <th>B_avg_opp_SIG_STR_landed</th>\n",
              "      <th>B_avg_TOTAL_STR_att</th>\n",
              "      <th>B_avg_TOTAL_STR_landed</th>\n",
              "      <th>B_avg_opp_TOTAL_STR_att</th>\n",
              "      <th>B_avg_opp_TOTAL_STR_landed</th>\n",
              "      <th>B_avg_TD_att</th>\n",
              "      <th>B_avg_TD_landed</th>\n",
              "      <th>B_avg_opp_TD_att</th>\n",
              "      <th>B_avg_opp_TD_landed</th>\n",
              "      <th>B_avg_HEAD_att</th>\n",
              "      <th>B_avg_HEAD_landed</th>\n",
              "      <th>B_avg_opp_HEAD_att</th>\n",
              "      <th>B_avg_opp_HEAD_landed</th>\n",
              "      <th>B_avg_BODY_att</th>\n",
              "      <th>B_avg_BODY_landed</th>\n",
              "      <th>B_avg_opp_BODY_att</th>\n",
              "      <th>B_avg_opp_BODY_landed</th>\n",
              "      <th>B_avg_LEG_att</th>\n",
              "      <th>B_avg_LEG_landed</th>\n",
              "      <th>...</th>\n",
              "      <th>R_avg_opp_BODY_landed</th>\n",
              "      <th>R_avg_LEG_att</th>\n",
              "      <th>R_avg_LEG_landed</th>\n",
              "      <th>R_avg_opp_LEG_att</th>\n",
              "      <th>R_avg_opp_LEG_landed</th>\n",
              "      <th>R_avg_DISTANCE_att</th>\n",
              "      <th>R_avg_DISTANCE_landed</th>\n",
              "      <th>R_avg_opp_DISTANCE_att</th>\n",
              "      <th>R_avg_opp_DISTANCE_landed</th>\n",
              "      <th>R_avg_CLINCH_att</th>\n",
              "      <th>R_avg_CLINCH_landed</th>\n",
              "      <th>R_avg_opp_CLINCH_att</th>\n",
              "      <th>R_avg_opp_CLINCH_landed</th>\n",
              "      <th>R_avg_GROUND_att</th>\n",
              "      <th>R_avg_GROUND_landed</th>\n",
              "      <th>R_avg_opp_GROUND_att</th>\n",
              "      <th>R_avg_opp_GROUND_landed</th>\n",
              "      <th>R_avg_CTRL_time(seconds)</th>\n",
              "      <th>R_avg_opp_CTRL_time(seconds)</th>\n",
              "      <th>R_total_time_fought(seconds)</th>\n",
              "      <th>R_total_rounds_fought</th>\n",
              "      <th>R_total_title_bouts</th>\n",
              "      <th>R_current_win_streak</th>\n",
              "      <th>R_current_lose_streak</th>\n",
              "      <th>R_longest_win_streak</th>\n",
              "      <th>R_wins</th>\n",
              "      <th>R_losses</th>\n",
              "      <th>R_draw</th>\n",
              "      <th>R_win_by_Decision_Majority</th>\n",
              "      <th>R_win_by_Decision_Split</th>\n",
              "      <th>R_win_by_Decision_Unanimous</th>\n",
              "      <th>R_win_by_KO/TKO</th>\n",
              "      <th>R_win_by_Submission</th>\n",
              "      <th>R_win_by_TKO_Doctor_Stoppage</th>\n",
              "      <th>R_Stance</th>\n",
              "      <th>R_Height_cms</th>\n",
              "      <th>R_Reach_cms</th>\n",
              "      <th>R_Weight_lbs</th>\n",
              "      <th>B_age</th>\n",
              "      <th>R_age</th>\n",
              "    </tr>\n",
              "  </thead>\n",
              "  <tbody>\n",
              "    <tr>\n",
              "      <th>0</th>\n",
              "      <td>Adrian Yanez</td>\n",
              "      <td>Gustavo Lopez</td>\n",
              "      <td>Chris Tognoni</td>\n",
              "      <td>2021-03-20</td>\n",
              "      <td>Las Vegas, Nevada, USA</td>\n",
              "      <td>Red</td>\n",
              "      <td>False</td>\n",
              "      <td>Bantamweight</td>\n",
              "      <td>0.000</td>\n",
              "      <td>0.0</td>\n",
              "      <td>0.420000</td>\n",
              "      <td>0.49500</td>\n",
              "      <td>0.330</td>\n",
              "      <td>0.36000</td>\n",
              "      <td>0.500</td>\n",
              "      <td>1.0000</td>\n",
              "      <td>0.00</td>\n",
              "      <td>0.0</td>\n",
              "      <td>50.0000</td>\n",
              "      <td>20.0000</td>\n",
              "      <td>84.000</td>\n",
              "      <td>45.0000</td>\n",
              "      <td>76.5000</td>\n",
              "      <td>41.000</td>\n",
              "      <td>114.000</td>\n",
              "      <td>64.00</td>\n",
              "      <td>1.500</td>\n",
              "      <td>1.0</td>\n",
              "      <td>9.0</td>\n",
              "      <td>6.500</td>\n",
              "      <td>39.500</td>\n",
              "      <td>11.000</td>\n",
              "      <td>63.0000</td>\n",
              "      <td>27.500</td>\n",
              "      <td>7.5000</td>\n",
              "      <td>7.0000</td>\n",
              "      <td>12.0000</td>\n",
              "      <td>9.0000</td>\n",
              "      <td>3.000</td>\n",
              "      <td>2.000</td>\n",
              "      <td>...</td>\n",
              "      <td>1.000000</td>\n",
              "      <td>0.000000</td>\n",
              "      <td>0.000000</td>\n",
              "      <td>0.000000</td>\n",
              "      <td>0.000000</td>\n",
              "      <td>33.000000</td>\n",
              "      <td>16.000000</td>\n",
              "      <td>12.000000</td>\n",
              "      <td>6.000000</td>\n",
              "      <td>1.000000</td>\n",
              "      <td>1.000000</td>\n",
              "      <td>1.0000</td>\n",
              "      <td>0.000000</td>\n",
              "      <td>0.000000</td>\n",
              "      <td>0.000000</td>\n",
              "      <td>0.000000</td>\n",
              "      <td>0.000000</td>\n",
              "      <td>5.000000</td>\n",
              "      <td>54.000000</td>\n",
              "      <td>166.000000</td>\n",
              "      <td>1</td>\n",
              "      <td>0</td>\n",
              "      <td>1</td>\n",
              "      <td>0</td>\n",
              "      <td>1</td>\n",
              "      <td>1</td>\n",
              "      <td>0</td>\n",
              "      <td>0</td>\n",
              "      <td>0</td>\n",
              "      <td>0</td>\n",
              "      <td>0</td>\n",
              "      <td>1</td>\n",
              "      <td>0</td>\n",
              "      <td>0</td>\n",
              "      <td>Orthodox</td>\n",
              "      <td>170.18</td>\n",
              "      <td>177.80</td>\n",
              "      <td>135.0</td>\n",
              "      <td>31.0</td>\n",
              "      <td>27.0</td>\n",
              "    </tr>\n",
              "    <tr>\n",
              "      <th>1</th>\n",
              "      <td>Trevin Giles</td>\n",
              "      <td>Roman Dolidze</td>\n",
              "      <td>Herb Dean</td>\n",
              "      <td>2021-03-20</td>\n",
              "      <td>Las Vegas, Nevada, USA</td>\n",
              "      <td>Red</td>\n",
              "      <td>False</td>\n",
              "      <td>Middleweight</td>\n",
              "      <td>0.500</td>\n",
              "      <td>0.0</td>\n",
              "      <td>0.660000</td>\n",
              "      <td>0.30500</td>\n",
              "      <td>0.300</td>\n",
              "      <td>0.50000</td>\n",
              "      <td>1.500</td>\n",
              "      <td>0.0000</td>\n",
              "      <td>0.00</td>\n",
              "      <td>0.0</td>\n",
              "      <td>65.5000</td>\n",
              "      <td>35.0000</td>\n",
              "      <td>50.000</td>\n",
              "      <td>16.5000</td>\n",
              "      <td>113.5000</td>\n",
              "      <td>68.500</td>\n",
              "      <td>68.500</td>\n",
              "      <td>29.00</td>\n",
              "      <td>2.500</td>\n",
              "      <td>1.5</td>\n",
              "      <td>0.5</td>\n",
              "      <td>0.500</td>\n",
              "      <td>46.000</td>\n",
              "      <td>20.000</td>\n",
              "      <td>36.0000</td>\n",
              "      <td>7.500</td>\n",
              "      <td>12.0000</td>\n",
              "      <td>8.0000</td>\n",
              "      <td>8.0000</td>\n",
              "      <td>3.0000</td>\n",
              "      <td>7.500</td>\n",
              "      <td>7.000</td>\n",
              "      <td>...</td>\n",
              "      <td>6.156250</td>\n",
              "      <td>1.781250</td>\n",
              "      <td>1.781250</td>\n",
              "      <td>9.656250</td>\n",
              "      <td>8.093750</td>\n",
              "      <td>58.312500</td>\n",
              "      <td>30.437500</td>\n",
              "      <td>63.312500</td>\n",
              "      <td>23.125000</td>\n",
              "      <td>6.968750</td>\n",
              "      <td>3.656250</td>\n",
              "      <td>5.0000</td>\n",
              "      <td>4.125000</td>\n",
              "      <td>12.281250</td>\n",
              "      <td>9.062500</td>\n",
              "      <td>0.843750</td>\n",
              "      <td>0.343750</td>\n",
              "      <td>176.156250</td>\n",
              "      <td>154.687500</td>\n",
              "      <td>747.343750</td>\n",
              "      <td>17</td>\n",
              "      <td>0</td>\n",
              "      <td>2</td>\n",
              "      <td>0</td>\n",
              "      <td>2</td>\n",
              "      <td>4</td>\n",
              "      <td>2</td>\n",
              "      <td>0</td>\n",
              "      <td>0</td>\n",
              "      <td>1</td>\n",
              "      <td>0</td>\n",
              "      <td>3</td>\n",
              "      <td>0</td>\n",
              "      <td>0</td>\n",
              "      <td>Orthodox</td>\n",
              "      <td>182.88</td>\n",
              "      <td>187.96</td>\n",
              "      <td>185.0</td>\n",
              "      <td>32.0</td>\n",
              "      <td>28.0</td>\n",
              "    </tr>\n",
              "    <tr>\n",
              "      <th>2</th>\n",
              "      <td>Tai Tuivasa</td>\n",
              "      <td>Harry Hunsucker</td>\n",
              "      <td>Herb Dean</td>\n",
              "      <td>2021-03-20</td>\n",
              "      <td>Las Vegas, Nevada, USA</td>\n",
              "      <td>Red</td>\n",
              "      <td>False</td>\n",
              "      <td>Heavyweight</td>\n",
              "      <td>NaN</td>\n",
              "      <td>NaN</td>\n",
              "      <td>NaN</td>\n",
              "      <td>NaN</td>\n",
              "      <td>NaN</td>\n",
              "      <td>NaN</td>\n",
              "      <td>NaN</td>\n",
              "      <td>NaN</td>\n",
              "      <td>NaN</td>\n",
              "      <td>NaN</td>\n",
              "      <td>NaN</td>\n",
              "      <td>NaN</td>\n",
              "      <td>NaN</td>\n",
              "      <td>NaN</td>\n",
              "      <td>NaN</td>\n",
              "      <td>NaN</td>\n",
              "      <td>NaN</td>\n",
              "      <td>NaN</td>\n",
              "      <td>NaN</td>\n",
              "      <td>NaN</td>\n",
              "      <td>NaN</td>\n",
              "      <td>NaN</td>\n",
              "      <td>NaN</td>\n",
              "      <td>NaN</td>\n",
              "      <td>NaN</td>\n",
              "      <td>NaN</td>\n",
              "      <td>NaN</td>\n",
              "      <td>NaN</td>\n",
              "      <td>NaN</td>\n",
              "      <td>NaN</td>\n",
              "      <td>NaN</td>\n",
              "      <td>NaN</td>\n",
              "      <td>...</td>\n",
              "      <td>3.718750</td>\n",
              "      <td>10.953125</td>\n",
              "      <td>9.046875</td>\n",
              "      <td>3.390625</td>\n",
              "      <td>3.140625</td>\n",
              "      <td>45.875000</td>\n",
              "      <td>20.281250</td>\n",
              "      <td>36.343750</td>\n",
              "      <td>18.687500</td>\n",
              "      <td>11.328125</td>\n",
              "      <td>8.562500</td>\n",
              "      <td>1.4375</td>\n",
              "      <td>1.171875</td>\n",
              "      <td>2.031250</td>\n",
              "      <td>1.531250</td>\n",
              "      <td>6.031250</td>\n",
              "      <td>4.937500</td>\n",
              "      <td>82.453125</td>\n",
              "      <td>89.781250</td>\n",
              "      <td>448.203125</td>\n",
              "      <td>13</td>\n",
              "      <td>0</td>\n",
              "      <td>3</td>\n",
              "      <td>0</td>\n",
              "      <td>3</td>\n",
              "      <td>4</td>\n",
              "      <td>3</td>\n",
              "      <td>0</td>\n",
              "      <td>0</td>\n",
              "      <td>0</td>\n",
              "      <td>1</td>\n",
              "      <td>3</td>\n",
              "      <td>0</td>\n",
              "      <td>0</td>\n",
              "      <td>Southpaw</td>\n",
              "      <td>187.96</td>\n",
              "      <td>190.50</td>\n",
              "      <td>264.0</td>\n",
              "      <td>32.0</td>\n",
              "      <td>28.0</td>\n",
              "    </tr>\n",
              "    <tr>\n",
              "      <th>3</th>\n",
              "      <td>Cheyanne Buys</td>\n",
              "      <td>Montserrat Conejo</td>\n",
              "      <td>Mark Smith</td>\n",
              "      <td>2021-03-20</td>\n",
              "      <td>Las Vegas, Nevada, USA</td>\n",
              "      <td>Blue</td>\n",
              "      <td>False</td>\n",
              "      <td>WomenStrawweight</td>\n",
              "      <td>NaN</td>\n",
              "      <td>NaN</td>\n",
              "      <td>NaN</td>\n",
              "      <td>NaN</td>\n",
              "      <td>NaN</td>\n",
              "      <td>NaN</td>\n",
              "      <td>NaN</td>\n",
              "      <td>NaN</td>\n",
              "      <td>NaN</td>\n",
              "      <td>NaN</td>\n",
              "      <td>NaN</td>\n",
              "      <td>NaN</td>\n",
              "      <td>NaN</td>\n",
              "      <td>NaN</td>\n",
              "      <td>NaN</td>\n",
              "      <td>NaN</td>\n",
              "      <td>NaN</td>\n",
              "      <td>NaN</td>\n",
              "      <td>NaN</td>\n",
              "      <td>NaN</td>\n",
              "      <td>NaN</td>\n",
              "      <td>NaN</td>\n",
              "      <td>NaN</td>\n",
              "      <td>NaN</td>\n",
              "      <td>NaN</td>\n",
              "      <td>NaN</td>\n",
              "      <td>NaN</td>\n",
              "      <td>NaN</td>\n",
              "      <td>NaN</td>\n",
              "      <td>NaN</td>\n",
              "      <td>NaN</td>\n",
              "      <td>NaN</td>\n",
              "      <td>...</td>\n",
              "      <td>NaN</td>\n",
              "      <td>NaN</td>\n",
              "      <td>NaN</td>\n",
              "      <td>NaN</td>\n",
              "      <td>NaN</td>\n",
              "      <td>NaN</td>\n",
              "      <td>NaN</td>\n",
              "      <td>NaN</td>\n",
              "      <td>NaN</td>\n",
              "      <td>NaN</td>\n",
              "      <td>NaN</td>\n",
              "      <td>NaN</td>\n",
              "      <td>NaN</td>\n",
              "      <td>NaN</td>\n",
              "      <td>NaN</td>\n",
              "      <td>NaN</td>\n",
              "      <td>NaN</td>\n",
              "      <td>NaN</td>\n",
              "      <td>NaN</td>\n",
              "      <td>NaN</td>\n",
              "      <td>0</td>\n",
              "      <td>0</td>\n",
              "      <td>0</td>\n",
              "      <td>0</td>\n",
              "      <td>0</td>\n",
              "      <td>0</td>\n",
              "      <td>0</td>\n",
              "      <td>0</td>\n",
              "      <td>0</td>\n",
              "      <td>0</td>\n",
              "      <td>0</td>\n",
              "      <td>0</td>\n",
              "      <td>0</td>\n",
              "      <td>0</td>\n",
              "      <td>Switch</td>\n",
              "      <td>160.02</td>\n",
              "      <td>160.02</td>\n",
              "      <td>115.0</td>\n",
              "      <td>28.0</td>\n",
              "      <td>25.0</td>\n",
              "    </tr>\n",
              "    <tr>\n",
              "      <th>4</th>\n",
              "      <td>Marion Reneau</td>\n",
              "      <td>Macy Chiasson</td>\n",
              "      <td>Mark Smith</td>\n",
              "      <td>2021-03-20</td>\n",
              "      <td>Las Vegas, Nevada, USA</td>\n",
              "      <td>Blue</td>\n",
              "      <td>False</td>\n",
              "      <td>WomenBantamweight</td>\n",
              "      <td>0.125</td>\n",
              "      <td>0.0</td>\n",
              "      <td>0.535625</td>\n",
              "      <td>0.57875</td>\n",
              "      <td>0.185</td>\n",
              "      <td>0.16625</td>\n",
              "      <td>0.125</td>\n",
              "      <td>0.1875</td>\n",
              "      <td>0.25</td>\n",
              "      <td>0.0</td>\n",
              "      <td>109.1875</td>\n",
              "      <td>57.9375</td>\n",
              "      <td>50.625</td>\n",
              "      <td>28.4375</td>\n",
              "      <td>170.4375</td>\n",
              "      <td>105.625</td>\n",
              "      <td>74.375</td>\n",
              "      <td>44.25</td>\n",
              "      <td>5.375</td>\n",
              "      <td>1.5</td>\n",
              "      <td>2.0</td>\n",
              "      <td>0.625</td>\n",
              "      <td>77.375</td>\n",
              "      <td>31.375</td>\n",
              "      <td>41.5625</td>\n",
              "      <td>22.625</td>\n",
              "      <td>31.1875</td>\n",
              "      <td>26.1875</td>\n",
              "      <td>7.6875</td>\n",
              "      <td>4.9375</td>\n",
              "      <td>0.625</td>\n",
              "      <td>0.375</td>\n",
              "      <td>...</td>\n",
              "      <td>31.658203</td>\n",
              "      <td>5.683594</td>\n",
              "      <td>4.862305</td>\n",
              "      <td>16.903320</td>\n",
              "      <td>14.203125</td>\n",
              "      <td>85.845703</td>\n",
              "      <td>27.907227</td>\n",
              "      <td>106.913086</td>\n",
              "      <td>48.479492</td>\n",
              "      <td>18.996094</td>\n",
              "      <td>13.970703</td>\n",
              "      <td>35.3125</td>\n",
              "      <td>32.059570</td>\n",
              "      <td>4.489258</td>\n",
              "      <td>2.484375</td>\n",
              "      <td>6.621094</td>\n",
              "      <td>4.015625</td>\n",
              "      <td>141.285156</td>\n",
              "      <td>310.152344</td>\n",
              "      <td>874.380859</td>\n",
              "      <td>30</td>\n",
              "      <td>0</td>\n",
              "      <td>2</td>\n",
              "      <td>0</td>\n",
              "      <td>2</td>\n",
              "      <td>5</td>\n",
              "      <td>6</td>\n",
              "      <td>0</td>\n",
              "      <td>0</td>\n",
              "      <td>0</td>\n",
              "      <td>1</td>\n",
              "      <td>2</td>\n",
              "      <td>2</td>\n",
              "      <td>0</td>\n",
              "      <td>Orthodox</td>\n",
              "      <td>167.64</td>\n",
              "      <td>172.72</td>\n",
              "      <td>135.0</td>\n",
              "      <td>29.0</td>\n",
              "      <td>43.0</td>\n",
              "    </tr>\n",
              "  </tbody>\n",
              "</table>\n",
              "<p>5 rows × 144 columns</p>\n",
              "</div>"
            ],
            "text/plain": [
              "       R_fighter          B_fighter        Referee  ... R_Weight_lbs B_age R_age\n",
              "0   Adrian Yanez      Gustavo Lopez  Chris Tognoni  ...        135.0  31.0  27.0\n",
              "1   Trevin Giles      Roman Dolidze      Herb Dean  ...        185.0  32.0  28.0\n",
              "2    Tai Tuivasa    Harry Hunsucker      Herb Dean  ...        264.0  32.0  28.0\n",
              "3  Cheyanne Buys  Montserrat Conejo     Mark Smith  ...        115.0  28.0  25.0\n",
              "4  Marion Reneau      Macy Chiasson     Mark Smith  ...        135.0  29.0  43.0\n",
              "\n",
              "[5 rows x 144 columns]"
            ]
          },
          "metadata": {},
          "execution_count": 13
        }
      ]
    },
    {
      "cell_type": "code",
      "metadata": {
        "id": "-Tt9WEBz1MZw"
      },
      "source": [
        "df = dados[['R_fighter', 'B_fighter', 'Referee', 'date', 'location', 'Winner', 'title_bout', 'weight_class', \n",
        "            'B_total_rounds_fought','B_total_title_bouts', 'B_wins', 'B_losses', 'B_draw', 'B_win_by_KO/TKO', 'B_Stance', \n",
        "            'B_Height_cms', 'B_Reach_cms', 'B_Weight_lbs', 'B_age',\n",
        "            'R_total_rounds_fought','R_total_title_bouts', 'R_wins', 'R_losses', 'R_draw', 'R_win_by_KO/TKO', 'R_Stance', \n",
        "            'R_Height_cms', 'R_Reach_cms', 'R_Weight_lbs', 'R_age']]"
      ],
      "execution_count": 14,
      "outputs": []
    },
    {
      "cell_type": "code",
      "metadata": {
        "colab": {
          "base_uri": "https://localhost:8080/",
          "height": 463
        },
        "id": "wnAmGsZD1MZy",
        "outputId": "0aa62dab-4a2d-4037-f7cf-37ebc16a0238"
      },
      "source": [
        "df.head()"
      ],
      "execution_count": 15,
      "outputs": [
        {
          "output_type": "execute_result",
          "data": {
            "text/html": [
              "<div>\n",
              "<style scoped>\n",
              "    .dataframe tbody tr th:only-of-type {\n",
              "        vertical-align: middle;\n",
              "    }\n",
              "\n",
              "    .dataframe tbody tr th {\n",
              "        vertical-align: top;\n",
              "    }\n",
              "\n",
              "    .dataframe thead th {\n",
              "        text-align: right;\n",
              "    }\n",
              "</style>\n",
              "<table border=\"1\" class=\"dataframe\">\n",
              "  <thead>\n",
              "    <tr style=\"text-align: right;\">\n",
              "      <th></th>\n",
              "      <th>R_fighter</th>\n",
              "      <th>B_fighter</th>\n",
              "      <th>Referee</th>\n",
              "      <th>date</th>\n",
              "      <th>location</th>\n",
              "      <th>Winner</th>\n",
              "      <th>title_bout</th>\n",
              "      <th>weight_class</th>\n",
              "      <th>B_total_rounds_fought</th>\n",
              "      <th>B_total_title_bouts</th>\n",
              "      <th>B_wins</th>\n",
              "      <th>B_losses</th>\n",
              "      <th>B_draw</th>\n",
              "      <th>B_win_by_KO/TKO</th>\n",
              "      <th>B_Stance</th>\n",
              "      <th>B_Height_cms</th>\n",
              "      <th>B_Reach_cms</th>\n",
              "      <th>B_Weight_lbs</th>\n",
              "      <th>B_age</th>\n",
              "      <th>R_total_rounds_fought</th>\n",
              "      <th>R_total_title_bouts</th>\n",
              "      <th>R_wins</th>\n",
              "      <th>R_losses</th>\n",
              "      <th>R_draw</th>\n",
              "      <th>R_win_by_KO/TKO</th>\n",
              "      <th>R_Stance</th>\n",
              "      <th>R_Height_cms</th>\n",
              "      <th>R_Reach_cms</th>\n",
              "      <th>R_Weight_lbs</th>\n",
              "      <th>R_age</th>\n",
              "    </tr>\n",
              "  </thead>\n",
              "  <tbody>\n",
              "    <tr>\n",
              "      <th>0</th>\n",
              "      <td>Adrian Yanez</td>\n",
              "      <td>Gustavo Lopez</td>\n",
              "      <td>Chris Tognoni</td>\n",
              "      <td>2021-03-20</td>\n",
              "      <td>Las Vegas, Nevada, USA</td>\n",
              "      <td>Red</td>\n",
              "      <td>False</td>\n",
              "      <td>Bantamweight</td>\n",
              "      <td>4</td>\n",
              "      <td>0</td>\n",
              "      <td>1</td>\n",
              "      <td>1</td>\n",
              "      <td>0</td>\n",
              "      <td>0</td>\n",
              "      <td>Orthodox</td>\n",
              "      <td>165.10</td>\n",
              "      <td>170.18</td>\n",
              "      <td>135.0</td>\n",
              "      <td>31.0</td>\n",
              "      <td>1</td>\n",
              "      <td>0</td>\n",
              "      <td>1</td>\n",
              "      <td>0</td>\n",
              "      <td>0</td>\n",
              "      <td>1</td>\n",
              "      <td>Orthodox</td>\n",
              "      <td>170.18</td>\n",
              "      <td>177.80</td>\n",
              "      <td>135.0</td>\n",
              "      <td>27.0</td>\n",
              "    </tr>\n",
              "    <tr>\n",
              "      <th>1</th>\n",
              "      <td>Trevin Giles</td>\n",
              "      <td>Roman Dolidze</td>\n",
              "      <td>Herb Dean</td>\n",
              "      <td>2021-03-20</td>\n",
              "      <td>Las Vegas, Nevada, USA</td>\n",
              "      <td>Red</td>\n",
              "      <td>False</td>\n",
              "      <td>Middleweight</td>\n",
              "      <td>4</td>\n",
              "      <td>0</td>\n",
              "      <td>2</td>\n",
              "      <td>0</td>\n",
              "      <td>0</td>\n",
              "      <td>1</td>\n",
              "      <td>Orthodox</td>\n",
              "      <td>187.96</td>\n",
              "      <td>193.04</td>\n",
              "      <td>205.0</td>\n",
              "      <td>32.0</td>\n",
              "      <td>17</td>\n",
              "      <td>0</td>\n",
              "      <td>4</td>\n",
              "      <td>2</td>\n",
              "      <td>0</td>\n",
              "      <td>3</td>\n",
              "      <td>Orthodox</td>\n",
              "      <td>182.88</td>\n",
              "      <td>187.96</td>\n",
              "      <td>185.0</td>\n",
              "      <td>28.0</td>\n",
              "    </tr>\n",
              "    <tr>\n",
              "      <th>2</th>\n",
              "      <td>Tai Tuivasa</td>\n",
              "      <td>Harry Hunsucker</td>\n",
              "      <td>Herb Dean</td>\n",
              "      <td>2021-03-20</td>\n",
              "      <td>Las Vegas, Nevada, USA</td>\n",
              "      <td>Red</td>\n",
              "      <td>False</td>\n",
              "      <td>Heavyweight</td>\n",
              "      <td>0</td>\n",
              "      <td>0</td>\n",
              "      <td>0</td>\n",
              "      <td>0</td>\n",
              "      <td>0</td>\n",
              "      <td>0</td>\n",
              "      <td>Orthodox</td>\n",
              "      <td>187.96</td>\n",
              "      <td>190.50</td>\n",
              "      <td>241.0</td>\n",
              "      <td>32.0</td>\n",
              "      <td>13</td>\n",
              "      <td>0</td>\n",
              "      <td>4</td>\n",
              "      <td>3</td>\n",
              "      <td>0</td>\n",
              "      <td>3</td>\n",
              "      <td>Southpaw</td>\n",
              "      <td>187.96</td>\n",
              "      <td>190.50</td>\n",
              "      <td>264.0</td>\n",
              "      <td>28.0</td>\n",
              "    </tr>\n",
              "    <tr>\n",
              "      <th>3</th>\n",
              "      <td>Cheyanne Buys</td>\n",
              "      <td>Montserrat Conejo</td>\n",
              "      <td>Mark Smith</td>\n",
              "      <td>2021-03-20</td>\n",
              "      <td>Las Vegas, Nevada, USA</td>\n",
              "      <td>Blue</td>\n",
              "      <td>False</td>\n",
              "      <td>WomenStrawweight</td>\n",
              "      <td>0</td>\n",
              "      <td>0</td>\n",
              "      <td>0</td>\n",
              "      <td>0</td>\n",
              "      <td>0</td>\n",
              "      <td>0</td>\n",
              "      <td>Southpaw</td>\n",
              "      <td>152.40</td>\n",
              "      <td>154.94</td>\n",
              "      <td>115.0</td>\n",
              "      <td>28.0</td>\n",
              "      <td>0</td>\n",
              "      <td>0</td>\n",
              "      <td>0</td>\n",
              "      <td>0</td>\n",
              "      <td>0</td>\n",
              "      <td>0</td>\n",
              "      <td>Switch</td>\n",
              "      <td>160.02</td>\n",
              "      <td>160.02</td>\n",
              "      <td>115.0</td>\n",
              "      <td>25.0</td>\n",
              "    </tr>\n",
              "    <tr>\n",
              "      <th>4</th>\n",
              "      <td>Marion Reneau</td>\n",
              "      <td>Macy Chiasson</td>\n",
              "      <td>Mark Smith</td>\n",
              "      <td>2021-03-20</td>\n",
              "      <td>Las Vegas, Nevada, USA</td>\n",
              "      <td>Blue</td>\n",
              "      <td>False</td>\n",
              "      <td>WomenBantamweight</td>\n",
              "      <td>11</td>\n",
              "      <td>1</td>\n",
              "      <td>4</td>\n",
              "      <td>1</td>\n",
              "      <td>0</td>\n",
              "      <td>2</td>\n",
              "      <td>Orthodox</td>\n",
              "      <td>180.34</td>\n",
              "      <td>182.88</td>\n",
              "      <td>135.0</td>\n",
              "      <td>29.0</td>\n",
              "      <td>30</td>\n",
              "      <td>0</td>\n",
              "      <td>5</td>\n",
              "      <td>6</td>\n",
              "      <td>0</td>\n",
              "      <td>2</td>\n",
              "      <td>Orthodox</td>\n",
              "      <td>167.64</td>\n",
              "      <td>172.72</td>\n",
              "      <td>135.0</td>\n",
              "      <td>43.0</td>\n",
              "    </tr>\n",
              "  </tbody>\n",
              "</table>\n",
              "</div>"
            ],
            "text/plain": [
              "       R_fighter          B_fighter  ... R_Weight_lbs R_age\n",
              "0   Adrian Yanez      Gustavo Lopez  ...        135.0  27.0\n",
              "1   Trevin Giles      Roman Dolidze  ...        185.0  28.0\n",
              "2    Tai Tuivasa    Harry Hunsucker  ...        264.0  28.0\n",
              "3  Cheyanne Buys  Montserrat Conejo  ...        115.0  25.0\n",
              "4  Marion Reneau      Macy Chiasson  ...        135.0  43.0\n",
              "\n",
              "[5 rows x 30 columns]"
            ]
          },
          "metadata": {},
          "execution_count": 15
        }
      ]
    },
    {
      "cell_type": "code",
      "metadata": {
        "id": "mOPyr9Vu1MZ0"
      },
      "source": [
        "divisao = df[\"location\"].str.split(',')"
      ],
      "execution_count": 16,
      "outputs": []
    },
    {
      "cell_type": "code",
      "metadata": {
        "colab": {
          "base_uri": "https://localhost:8080/"
        },
        "id": "SwQ8Zhjl1MZ1",
        "outputId": "ba0f73bb-f36a-461f-ba70-a54ac86e93ee"
      },
      "source": [
        "divisao"
      ],
      "execution_count": 17,
      "outputs": [
        {
          "output_type": "execute_result",
          "data": {
            "text/plain": [
              "0       [Las Vegas,  Nevada,  USA]\n",
              "1       [Las Vegas,  Nevada,  USA]\n",
              "2       [Las Vegas,  Nevada,  USA]\n",
              "3       [Las Vegas,  Nevada,  USA]\n",
              "4       [Las Vegas,  Nevada,  USA]\n",
              "                   ...            \n",
              "6007     [Denver,  Colorado,  USA]\n",
              "6008     [Denver,  Colorado,  USA]\n",
              "6009     [Denver,  Colorado,  USA]\n",
              "6010     [Denver,  Colorado,  USA]\n",
              "6011     [Denver,  Colorado,  USA]\n",
              "Name: location, Length: 6012, dtype: object"
            ]
          },
          "metadata": {},
          "execution_count": 17
        }
      ]
    },
    {
      "cell_type": "code",
      "metadata": {
        "id": "zP_YqO8q1MZ2"
      },
      "source": [
        "cidade_estado = divisao.str.get(0) + \", \" + divisao.str.get(1)\n",
        "pais = divisao.str.get(2)"
      ],
      "execution_count": 18,
      "outputs": []
    },
    {
      "cell_type": "code",
      "metadata": {
        "colab": {
          "base_uri": "https://localhost:8080/"
        },
        "id": "RjSJzyke1MZ3",
        "outputId": "3f02dfb7-650f-4d58-c550-1888c912db4d"
      },
      "source": [
        "df[\"City/State\"] = cidade_estado\n",
        "df[\"Country\"] = pais"
      ],
      "execution_count": 19,
      "outputs": [
        {
          "output_type": "stream",
          "name": "stderr",
          "text": [
            "/usr/local/lib/python3.7/dist-packages/ipykernel_launcher.py:1: SettingWithCopyWarning: \n",
            "A value is trying to be set on a copy of a slice from a DataFrame.\n",
            "Try using .loc[row_indexer,col_indexer] = value instead\n",
            "\n",
            "See the caveats in the documentation: https://pandas.pydata.org/pandas-docs/stable/user_guide/indexing.html#returning-a-view-versus-a-copy\n",
            "  \"\"\"Entry point for launching an IPython kernel.\n",
            "/usr/local/lib/python3.7/dist-packages/ipykernel_launcher.py:2: SettingWithCopyWarning: \n",
            "A value is trying to be set on a copy of a slice from a DataFrame.\n",
            "Try using .loc[row_indexer,col_indexer] = value instead\n",
            "\n",
            "See the caveats in the documentation: https://pandas.pydata.org/pandas-docs/stable/user_guide/indexing.html#returning-a-view-versus-a-copy\n",
            "  \n"
          ]
        }
      ]
    },
    {
      "cell_type": "code",
      "metadata": {
        "colab": {
          "base_uri": "https://localhost:8080/"
        },
        "id": "MiVfkaEi1MZ4",
        "outputId": "ddadc122-3b5e-4927-9595-3abcc8abcf96"
      },
      "source": [
        "df.info()"
      ],
      "execution_count": 20,
      "outputs": [
        {
          "output_type": "stream",
          "name": "stdout",
          "text": [
            "<class 'pandas.core.frame.DataFrame'>\n",
            "RangeIndex: 6012 entries, 0 to 6011\n",
            "Data columns (total 32 columns):\n",
            " #   Column                 Non-Null Count  Dtype  \n",
            "---  ------                 --------------  -----  \n",
            " 0   R_fighter              6012 non-null   object \n",
            " 1   B_fighter              6012 non-null   object \n",
            " 2   Referee                5980 non-null   object \n",
            " 3   date                   6012 non-null   object \n",
            " 4   location               6012 non-null   object \n",
            " 5   Winner                 6012 non-null   object \n",
            " 6   title_bout             6012 non-null   bool   \n",
            " 7   weight_class           6012 non-null   object \n",
            " 8   B_total_rounds_fought  6012 non-null   int64  \n",
            " 9   B_total_title_bouts    6012 non-null   int64  \n",
            " 10  B_wins                 6012 non-null   int64  \n",
            " 11  B_losses               6012 non-null   int64  \n",
            " 12  B_draw                 6012 non-null   int64  \n",
            " 13  B_win_by_KO/TKO        6012 non-null   int64  \n",
            " 14  B_Stance               5946 non-null   object \n",
            " 15  B_Height_cms           6002 non-null   float64\n",
            " 16  B_Reach_cms            5121 non-null   float64\n",
            " 17  B_Weight_lbs           6004 non-null   float64\n",
            " 18  B_age                  5840 non-null   float64\n",
            " 19  R_total_rounds_fought  6012 non-null   int64  \n",
            " 20  R_total_title_bouts    6012 non-null   int64  \n",
            " 21  R_wins                 6012 non-null   int64  \n",
            " 22  R_losses               6012 non-null   int64  \n",
            " 23  R_draw                 6012 non-null   int64  \n",
            " 24  R_win_by_KO/TKO        6012 non-null   int64  \n",
            " 25  R_Stance               5983 non-null   object \n",
            " 26  R_Height_cms           6008 non-null   float64\n",
            " 27  R_Reach_cms            5606 non-null   float64\n",
            " 28  R_Weight_lbs           6010 non-null   float64\n",
            " 29  R_age                  5949 non-null   float64\n",
            " 30  City/State             6012 non-null   object \n",
            " 31  Country                5498 non-null   object \n",
            "dtypes: bool(1), float64(8), int64(12), object(11)\n",
            "memory usage: 1.4+ MB\n"
          ]
        }
      ]
    },
    {
      "cell_type": "code",
      "metadata": {
        "id": "LS4OvRSt1MZ6"
      },
      "source": [
        "df = df.dropna()"
      ],
      "execution_count": 21,
      "outputs": []
    },
    {
      "cell_type": "code",
      "metadata": {
        "colab": {
          "base_uri": "https://localhost:8080/"
        },
        "id": "IDjGdYT-1MZ7",
        "outputId": "2e31e769-df52-4d8b-e6df-2cb58255cb3b"
      },
      "source": [
        "df.info()"
      ],
      "execution_count": 22,
      "outputs": [
        {
          "output_type": "stream",
          "name": "stdout",
          "text": [
            "<class 'pandas.core.frame.DataFrame'>\n",
            "Int64Index: 4517 entries, 0 to 5884\n",
            "Data columns (total 32 columns):\n",
            " #   Column                 Non-Null Count  Dtype  \n",
            "---  ------                 --------------  -----  \n",
            " 0   R_fighter              4517 non-null   object \n",
            " 1   B_fighter              4517 non-null   object \n",
            " 2   Referee                4517 non-null   object \n",
            " 3   date                   4517 non-null   object \n",
            " 4   location               4517 non-null   object \n",
            " 5   Winner                 4517 non-null   object \n",
            " 6   title_bout             4517 non-null   bool   \n",
            " 7   weight_class           4517 non-null   object \n",
            " 8   B_total_rounds_fought  4517 non-null   int64  \n",
            " 9   B_total_title_bouts    4517 non-null   int64  \n",
            " 10  B_wins                 4517 non-null   int64  \n",
            " 11  B_losses               4517 non-null   int64  \n",
            " 12  B_draw                 4517 non-null   int64  \n",
            " 13  B_win_by_KO/TKO        4517 non-null   int64  \n",
            " 14  B_Stance               4517 non-null   object \n",
            " 15  B_Height_cms           4517 non-null   float64\n",
            " 16  B_Reach_cms            4517 non-null   float64\n",
            " 17  B_Weight_lbs           4517 non-null   float64\n",
            " 18  B_age                  4517 non-null   float64\n",
            " 19  R_total_rounds_fought  4517 non-null   int64  \n",
            " 20  R_total_title_bouts    4517 non-null   int64  \n",
            " 21  R_wins                 4517 non-null   int64  \n",
            " 22  R_losses               4517 non-null   int64  \n",
            " 23  R_draw                 4517 non-null   int64  \n",
            " 24  R_win_by_KO/TKO        4517 non-null   int64  \n",
            " 25  R_Stance               4517 non-null   object \n",
            " 26  R_Height_cms           4517 non-null   float64\n",
            " 27  R_Reach_cms            4517 non-null   float64\n",
            " 28  R_Weight_lbs           4517 non-null   float64\n",
            " 29  R_age                  4517 non-null   float64\n",
            " 30  City/State             4517 non-null   object \n",
            " 31  Country                4517 non-null   object \n",
            "dtypes: bool(1), float64(8), int64(12), object(11)\n",
            "memory usage: 1.1+ MB\n"
          ]
        }
      ]
    },
    {
      "cell_type": "code",
      "metadata": {
        "id": "lX_CM4NQ1MZ8"
      },
      "source": [
        ""
      ],
      "execution_count": 22,
      "outputs": []
    },
    {
      "cell_type": "code",
      "metadata": {
        "id": "FyWKdRvF1MZ8"
      },
      "source": [
        "df = df[['R_fighter', 'B_fighter', 'Referee', 'date', 'City/State', 'Country', 'Winner', 'title_bout', 'weight_class', \n",
        "            'B_total_rounds_fought','B_total_title_bouts', 'B_wins', 'B_losses', 'B_draw', 'B_win_by_KO/TKO', 'B_Stance', \n",
        "            'B_Height_cms', 'B_Reach_cms', 'B_Weight_lbs', 'B_age',\n",
        "            'R_total_rounds_fought','R_total_title_bouts', 'R_wins', 'R_losses', 'R_draw', 'R_win_by_KO/TKO', 'R_Stance', \n",
        "            'R_Height_cms', 'R_Reach_cms', 'R_Weight_lbs', 'R_age']]"
      ],
      "execution_count": 23,
      "outputs": []
    },
    {
      "cell_type": "code",
      "metadata": {
        "colab": {
          "base_uri": "https://localhost:8080/",
          "height": 301
        },
        "id": "pbT2gQxe1MZ9",
        "outputId": "4d3b9da9-a99b-400d-d648-84bd2af50615"
      },
      "source": [
        "df.head()"
      ],
      "execution_count": 24,
      "outputs": [
        {
          "output_type": "execute_result",
          "data": {
            "text/html": [
              "<div>\n",
              "<style scoped>\n",
              "    .dataframe tbody tr th:only-of-type {\n",
              "        vertical-align: middle;\n",
              "    }\n",
              "\n",
              "    .dataframe tbody tr th {\n",
              "        vertical-align: top;\n",
              "    }\n",
              "\n",
              "    .dataframe thead th {\n",
              "        text-align: right;\n",
              "    }\n",
              "</style>\n",
              "<table border=\"1\" class=\"dataframe\">\n",
              "  <thead>\n",
              "    <tr style=\"text-align: right;\">\n",
              "      <th></th>\n",
              "      <th>R_fighter</th>\n",
              "      <th>B_fighter</th>\n",
              "      <th>Referee</th>\n",
              "      <th>date</th>\n",
              "      <th>City/State</th>\n",
              "      <th>Country</th>\n",
              "      <th>Winner</th>\n",
              "      <th>title_bout</th>\n",
              "      <th>weight_class</th>\n",
              "      <th>B_total_rounds_fought</th>\n",
              "      <th>B_total_title_bouts</th>\n",
              "      <th>B_wins</th>\n",
              "      <th>B_losses</th>\n",
              "      <th>B_draw</th>\n",
              "      <th>B_win_by_KO/TKO</th>\n",
              "      <th>B_Stance</th>\n",
              "      <th>B_Height_cms</th>\n",
              "      <th>B_Reach_cms</th>\n",
              "      <th>B_Weight_lbs</th>\n",
              "      <th>B_age</th>\n",
              "      <th>R_total_rounds_fought</th>\n",
              "      <th>R_total_title_bouts</th>\n",
              "      <th>R_wins</th>\n",
              "      <th>R_losses</th>\n",
              "      <th>R_draw</th>\n",
              "      <th>R_win_by_KO/TKO</th>\n",
              "      <th>R_Stance</th>\n",
              "      <th>R_Height_cms</th>\n",
              "      <th>R_Reach_cms</th>\n",
              "      <th>R_Weight_lbs</th>\n",
              "      <th>R_age</th>\n",
              "    </tr>\n",
              "  </thead>\n",
              "  <tbody>\n",
              "    <tr>\n",
              "      <th>0</th>\n",
              "      <td>Adrian Yanez</td>\n",
              "      <td>Gustavo Lopez</td>\n",
              "      <td>Chris Tognoni</td>\n",
              "      <td>2021-03-20</td>\n",
              "      <td>Las Vegas,  Nevada</td>\n",
              "      <td>USA</td>\n",
              "      <td>Red</td>\n",
              "      <td>False</td>\n",
              "      <td>Bantamweight</td>\n",
              "      <td>4</td>\n",
              "      <td>0</td>\n",
              "      <td>1</td>\n",
              "      <td>1</td>\n",
              "      <td>0</td>\n",
              "      <td>0</td>\n",
              "      <td>Orthodox</td>\n",
              "      <td>165.10</td>\n",
              "      <td>170.18</td>\n",
              "      <td>135.0</td>\n",
              "      <td>31.0</td>\n",
              "      <td>1</td>\n",
              "      <td>0</td>\n",
              "      <td>1</td>\n",
              "      <td>0</td>\n",
              "      <td>0</td>\n",
              "      <td>1</td>\n",
              "      <td>Orthodox</td>\n",
              "      <td>170.18</td>\n",
              "      <td>177.80</td>\n",
              "      <td>135.0</td>\n",
              "      <td>27.0</td>\n",
              "    </tr>\n",
              "    <tr>\n",
              "      <th>1</th>\n",
              "      <td>Trevin Giles</td>\n",
              "      <td>Roman Dolidze</td>\n",
              "      <td>Herb Dean</td>\n",
              "      <td>2021-03-20</td>\n",
              "      <td>Las Vegas,  Nevada</td>\n",
              "      <td>USA</td>\n",
              "      <td>Red</td>\n",
              "      <td>False</td>\n",
              "      <td>Middleweight</td>\n",
              "      <td>4</td>\n",
              "      <td>0</td>\n",
              "      <td>2</td>\n",
              "      <td>0</td>\n",
              "      <td>0</td>\n",
              "      <td>1</td>\n",
              "      <td>Orthodox</td>\n",
              "      <td>187.96</td>\n",
              "      <td>193.04</td>\n",
              "      <td>205.0</td>\n",
              "      <td>32.0</td>\n",
              "      <td>17</td>\n",
              "      <td>0</td>\n",
              "      <td>4</td>\n",
              "      <td>2</td>\n",
              "      <td>0</td>\n",
              "      <td>3</td>\n",
              "      <td>Orthodox</td>\n",
              "      <td>182.88</td>\n",
              "      <td>187.96</td>\n",
              "      <td>185.0</td>\n",
              "      <td>28.0</td>\n",
              "    </tr>\n",
              "    <tr>\n",
              "      <th>2</th>\n",
              "      <td>Tai Tuivasa</td>\n",
              "      <td>Harry Hunsucker</td>\n",
              "      <td>Herb Dean</td>\n",
              "      <td>2021-03-20</td>\n",
              "      <td>Las Vegas,  Nevada</td>\n",
              "      <td>USA</td>\n",
              "      <td>Red</td>\n",
              "      <td>False</td>\n",
              "      <td>Heavyweight</td>\n",
              "      <td>0</td>\n",
              "      <td>0</td>\n",
              "      <td>0</td>\n",
              "      <td>0</td>\n",
              "      <td>0</td>\n",
              "      <td>0</td>\n",
              "      <td>Orthodox</td>\n",
              "      <td>187.96</td>\n",
              "      <td>190.50</td>\n",
              "      <td>241.0</td>\n",
              "      <td>32.0</td>\n",
              "      <td>13</td>\n",
              "      <td>0</td>\n",
              "      <td>4</td>\n",
              "      <td>3</td>\n",
              "      <td>0</td>\n",
              "      <td>3</td>\n",
              "      <td>Southpaw</td>\n",
              "      <td>187.96</td>\n",
              "      <td>190.50</td>\n",
              "      <td>264.0</td>\n",
              "      <td>28.0</td>\n",
              "    </tr>\n",
              "    <tr>\n",
              "      <th>3</th>\n",
              "      <td>Cheyanne Buys</td>\n",
              "      <td>Montserrat Conejo</td>\n",
              "      <td>Mark Smith</td>\n",
              "      <td>2021-03-20</td>\n",
              "      <td>Las Vegas,  Nevada</td>\n",
              "      <td>USA</td>\n",
              "      <td>Blue</td>\n",
              "      <td>False</td>\n",
              "      <td>WomenStrawweight</td>\n",
              "      <td>0</td>\n",
              "      <td>0</td>\n",
              "      <td>0</td>\n",
              "      <td>0</td>\n",
              "      <td>0</td>\n",
              "      <td>0</td>\n",
              "      <td>Southpaw</td>\n",
              "      <td>152.40</td>\n",
              "      <td>154.94</td>\n",
              "      <td>115.0</td>\n",
              "      <td>28.0</td>\n",
              "      <td>0</td>\n",
              "      <td>0</td>\n",
              "      <td>0</td>\n",
              "      <td>0</td>\n",
              "      <td>0</td>\n",
              "      <td>0</td>\n",
              "      <td>Switch</td>\n",
              "      <td>160.02</td>\n",
              "      <td>160.02</td>\n",
              "      <td>115.0</td>\n",
              "      <td>25.0</td>\n",
              "    </tr>\n",
              "    <tr>\n",
              "      <th>4</th>\n",
              "      <td>Marion Reneau</td>\n",
              "      <td>Macy Chiasson</td>\n",
              "      <td>Mark Smith</td>\n",
              "      <td>2021-03-20</td>\n",
              "      <td>Las Vegas,  Nevada</td>\n",
              "      <td>USA</td>\n",
              "      <td>Blue</td>\n",
              "      <td>False</td>\n",
              "      <td>WomenBantamweight</td>\n",
              "      <td>11</td>\n",
              "      <td>1</td>\n",
              "      <td>4</td>\n",
              "      <td>1</td>\n",
              "      <td>0</td>\n",
              "      <td>2</td>\n",
              "      <td>Orthodox</td>\n",
              "      <td>180.34</td>\n",
              "      <td>182.88</td>\n",
              "      <td>135.0</td>\n",
              "      <td>29.0</td>\n",
              "      <td>30</td>\n",
              "      <td>0</td>\n",
              "      <td>5</td>\n",
              "      <td>6</td>\n",
              "      <td>0</td>\n",
              "      <td>2</td>\n",
              "      <td>Orthodox</td>\n",
              "      <td>167.64</td>\n",
              "      <td>172.72</td>\n",
              "      <td>135.0</td>\n",
              "      <td>43.0</td>\n",
              "    </tr>\n",
              "  </tbody>\n",
              "</table>\n",
              "</div>"
            ],
            "text/plain": [
              "       R_fighter          B_fighter  ... R_Weight_lbs R_age\n",
              "0   Adrian Yanez      Gustavo Lopez  ...        135.0  27.0\n",
              "1   Trevin Giles      Roman Dolidze  ...        185.0  28.0\n",
              "2    Tai Tuivasa    Harry Hunsucker  ...        264.0  28.0\n",
              "3  Cheyanne Buys  Montserrat Conejo  ...        115.0  25.0\n",
              "4  Marion Reneau      Macy Chiasson  ...        135.0  43.0\n",
              "\n",
              "[5 rows x 31 columns]"
            ]
          },
          "metadata": {},
          "execution_count": 24
        }
      ]
    },
    {
      "cell_type": "code",
      "metadata": {
        "id": "omfC3lOR1MZ-"
      },
      "source": [
        "df_red = df[['R_fighter','weight_class', 'R_age','R_total_rounds_fought','R_total_title_bouts', \n",
        "             'R_wins', 'R_losses', 'R_draw', 'R_win_by_KO/TKO', 'R_Stance', \n",
        "            'R_Height_cms', 'R_Reach_cms', 'R_Weight_lbs']]"
      ],
      "execution_count": 25,
      "outputs": []
    },
    {
      "cell_type": "code",
      "metadata": {
        "colab": {
          "base_uri": "https://localhost:8080/",
          "height": 301
        },
        "id": "rG04iui41MZ_",
        "outputId": "d1dad0e1-21fb-41c5-9961-c2a6a4785957"
      },
      "source": [
        "df_red.head()"
      ],
      "execution_count": 26,
      "outputs": [
        {
          "output_type": "execute_result",
          "data": {
            "text/html": [
              "<div>\n",
              "<style scoped>\n",
              "    .dataframe tbody tr th:only-of-type {\n",
              "        vertical-align: middle;\n",
              "    }\n",
              "\n",
              "    .dataframe tbody tr th {\n",
              "        vertical-align: top;\n",
              "    }\n",
              "\n",
              "    .dataframe thead th {\n",
              "        text-align: right;\n",
              "    }\n",
              "</style>\n",
              "<table border=\"1\" class=\"dataframe\">\n",
              "  <thead>\n",
              "    <tr style=\"text-align: right;\">\n",
              "      <th></th>\n",
              "      <th>R_fighter</th>\n",
              "      <th>weight_class</th>\n",
              "      <th>R_age</th>\n",
              "      <th>R_total_rounds_fought</th>\n",
              "      <th>R_total_title_bouts</th>\n",
              "      <th>R_wins</th>\n",
              "      <th>R_losses</th>\n",
              "      <th>R_draw</th>\n",
              "      <th>R_win_by_KO/TKO</th>\n",
              "      <th>R_Stance</th>\n",
              "      <th>R_Height_cms</th>\n",
              "      <th>R_Reach_cms</th>\n",
              "      <th>R_Weight_lbs</th>\n",
              "    </tr>\n",
              "  </thead>\n",
              "  <tbody>\n",
              "    <tr>\n",
              "      <th>0</th>\n",
              "      <td>Adrian Yanez</td>\n",
              "      <td>Bantamweight</td>\n",
              "      <td>27.0</td>\n",
              "      <td>1</td>\n",
              "      <td>0</td>\n",
              "      <td>1</td>\n",
              "      <td>0</td>\n",
              "      <td>0</td>\n",
              "      <td>1</td>\n",
              "      <td>Orthodox</td>\n",
              "      <td>170.18</td>\n",
              "      <td>177.80</td>\n",
              "      <td>135.0</td>\n",
              "    </tr>\n",
              "    <tr>\n",
              "      <th>1</th>\n",
              "      <td>Trevin Giles</td>\n",
              "      <td>Middleweight</td>\n",
              "      <td>28.0</td>\n",
              "      <td>17</td>\n",
              "      <td>0</td>\n",
              "      <td>4</td>\n",
              "      <td>2</td>\n",
              "      <td>0</td>\n",
              "      <td>3</td>\n",
              "      <td>Orthodox</td>\n",
              "      <td>182.88</td>\n",
              "      <td>187.96</td>\n",
              "      <td>185.0</td>\n",
              "    </tr>\n",
              "    <tr>\n",
              "      <th>2</th>\n",
              "      <td>Tai Tuivasa</td>\n",
              "      <td>Heavyweight</td>\n",
              "      <td>28.0</td>\n",
              "      <td>13</td>\n",
              "      <td>0</td>\n",
              "      <td>4</td>\n",
              "      <td>3</td>\n",
              "      <td>0</td>\n",
              "      <td>3</td>\n",
              "      <td>Southpaw</td>\n",
              "      <td>187.96</td>\n",
              "      <td>190.50</td>\n",
              "      <td>264.0</td>\n",
              "    </tr>\n",
              "    <tr>\n",
              "      <th>3</th>\n",
              "      <td>Cheyanne Buys</td>\n",
              "      <td>WomenStrawweight</td>\n",
              "      <td>25.0</td>\n",
              "      <td>0</td>\n",
              "      <td>0</td>\n",
              "      <td>0</td>\n",
              "      <td>0</td>\n",
              "      <td>0</td>\n",
              "      <td>0</td>\n",
              "      <td>Switch</td>\n",
              "      <td>160.02</td>\n",
              "      <td>160.02</td>\n",
              "      <td>115.0</td>\n",
              "    </tr>\n",
              "    <tr>\n",
              "      <th>4</th>\n",
              "      <td>Marion Reneau</td>\n",
              "      <td>WomenBantamweight</td>\n",
              "      <td>43.0</td>\n",
              "      <td>30</td>\n",
              "      <td>0</td>\n",
              "      <td>5</td>\n",
              "      <td>6</td>\n",
              "      <td>0</td>\n",
              "      <td>2</td>\n",
              "      <td>Orthodox</td>\n",
              "      <td>167.64</td>\n",
              "      <td>172.72</td>\n",
              "      <td>135.0</td>\n",
              "    </tr>\n",
              "  </tbody>\n",
              "</table>\n",
              "</div>"
            ],
            "text/plain": [
              "       R_fighter       weight_class  ...  R_Reach_cms  R_Weight_lbs\n",
              "0   Adrian Yanez       Bantamweight  ...       177.80         135.0\n",
              "1   Trevin Giles       Middleweight  ...       187.96         185.0\n",
              "2    Tai Tuivasa        Heavyweight  ...       190.50         264.0\n",
              "3  Cheyanne Buys   WomenStrawweight  ...       160.02         115.0\n",
              "4  Marion Reneau  WomenBantamweight  ...       172.72         135.0\n",
              "\n",
              "[5 rows x 13 columns]"
            ]
          },
          "metadata": {},
          "execution_count": 26
        }
      ]
    },
    {
      "cell_type": "code",
      "metadata": {
        "id": "FfIF5Z0e1MaD"
      },
      "source": [
        "df_blue = df[['B_fighter', 'weight_class','B_age', 'B_total_rounds_fought','B_total_title_bouts', \n",
        "              'B_wins', 'B_losses', 'B_draw', 'B_win_by_KO/TKO', 'B_Stance', \n",
        "              'B_Height_cms', 'B_Reach_cms', 'B_Weight_lbs']]"
      ],
      "execution_count": 27,
      "outputs": []
    },
    {
      "cell_type": "code",
      "metadata": {
        "colab": {
          "base_uri": "https://localhost:8080/",
          "height": 301
        },
        "id": "Rwt3_ShH1MaE",
        "outputId": "4f394116-1a25-4729-db3e-51fb286ac7bf"
      },
      "source": [
        "df_blue.head()"
      ],
      "execution_count": 28,
      "outputs": [
        {
          "output_type": "execute_result",
          "data": {
            "text/html": [
              "<div>\n",
              "<style scoped>\n",
              "    .dataframe tbody tr th:only-of-type {\n",
              "        vertical-align: middle;\n",
              "    }\n",
              "\n",
              "    .dataframe tbody tr th {\n",
              "        vertical-align: top;\n",
              "    }\n",
              "\n",
              "    .dataframe thead th {\n",
              "        text-align: right;\n",
              "    }\n",
              "</style>\n",
              "<table border=\"1\" class=\"dataframe\">\n",
              "  <thead>\n",
              "    <tr style=\"text-align: right;\">\n",
              "      <th></th>\n",
              "      <th>B_fighter</th>\n",
              "      <th>weight_class</th>\n",
              "      <th>B_age</th>\n",
              "      <th>B_total_rounds_fought</th>\n",
              "      <th>B_total_title_bouts</th>\n",
              "      <th>B_wins</th>\n",
              "      <th>B_losses</th>\n",
              "      <th>B_draw</th>\n",
              "      <th>B_win_by_KO/TKO</th>\n",
              "      <th>B_Stance</th>\n",
              "      <th>B_Height_cms</th>\n",
              "      <th>B_Reach_cms</th>\n",
              "      <th>B_Weight_lbs</th>\n",
              "    </tr>\n",
              "  </thead>\n",
              "  <tbody>\n",
              "    <tr>\n",
              "      <th>0</th>\n",
              "      <td>Gustavo Lopez</td>\n",
              "      <td>Bantamweight</td>\n",
              "      <td>31.0</td>\n",
              "      <td>4</td>\n",
              "      <td>0</td>\n",
              "      <td>1</td>\n",
              "      <td>1</td>\n",
              "      <td>0</td>\n",
              "      <td>0</td>\n",
              "      <td>Orthodox</td>\n",
              "      <td>165.10</td>\n",
              "      <td>170.18</td>\n",
              "      <td>135.0</td>\n",
              "    </tr>\n",
              "    <tr>\n",
              "      <th>1</th>\n",
              "      <td>Roman Dolidze</td>\n",
              "      <td>Middleweight</td>\n",
              "      <td>32.0</td>\n",
              "      <td>4</td>\n",
              "      <td>0</td>\n",
              "      <td>2</td>\n",
              "      <td>0</td>\n",
              "      <td>0</td>\n",
              "      <td>1</td>\n",
              "      <td>Orthodox</td>\n",
              "      <td>187.96</td>\n",
              "      <td>193.04</td>\n",
              "      <td>205.0</td>\n",
              "    </tr>\n",
              "    <tr>\n",
              "      <th>2</th>\n",
              "      <td>Harry Hunsucker</td>\n",
              "      <td>Heavyweight</td>\n",
              "      <td>32.0</td>\n",
              "      <td>0</td>\n",
              "      <td>0</td>\n",
              "      <td>0</td>\n",
              "      <td>0</td>\n",
              "      <td>0</td>\n",
              "      <td>0</td>\n",
              "      <td>Orthodox</td>\n",
              "      <td>187.96</td>\n",
              "      <td>190.50</td>\n",
              "      <td>241.0</td>\n",
              "    </tr>\n",
              "    <tr>\n",
              "      <th>3</th>\n",
              "      <td>Montserrat Conejo</td>\n",
              "      <td>WomenStrawweight</td>\n",
              "      <td>28.0</td>\n",
              "      <td>0</td>\n",
              "      <td>0</td>\n",
              "      <td>0</td>\n",
              "      <td>0</td>\n",
              "      <td>0</td>\n",
              "      <td>0</td>\n",
              "      <td>Southpaw</td>\n",
              "      <td>152.40</td>\n",
              "      <td>154.94</td>\n",
              "      <td>115.0</td>\n",
              "    </tr>\n",
              "    <tr>\n",
              "      <th>4</th>\n",
              "      <td>Macy Chiasson</td>\n",
              "      <td>WomenBantamweight</td>\n",
              "      <td>29.0</td>\n",
              "      <td>11</td>\n",
              "      <td>1</td>\n",
              "      <td>4</td>\n",
              "      <td>1</td>\n",
              "      <td>0</td>\n",
              "      <td>2</td>\n",
              "      <td>Orthodox</td>\n",
              "      <td>180.34</td>\n",
              "      <td>182.88</td>\n",
              "      <td>135.0</td>\n",
              "    </tr>\n",
              "  </tbody>\n",
              "</table>\n",
              "</div>"
            ],
            "text/plain": [
              "           B_fighter       weight_class  ...  B_Reach_cms  B_Weight_lbs\n",
              "0      Gustavo Lopez       Bantamweight  ...       170.18         135.0\n",
              "1      Roman Dolidze       Middleweight  ...       193.04         205.0\n",
              "2    Harry Hunsucker        Heavyweight  ...       190.50         241.0\n",
              "3  Montserrat Conejo   WomenStrawweight  ...       154.94         115.0\n",
              "4      Macy Chiasson  WomenBantamweight  ...       182.88         135.0\n",
              "\n",
              "[5 rows x 13 columns]"
            ]
          },
          "metadata": {},
          "execution_count": 28
        }
      ]
    },
    {
      "cell_type": "code",
      "metadata": {
        "id": "UlknIqZt1MaF"
      },
      "source": [
        "df_fight = df[['R_fighter', 'B_fighter', 'Referee', 'date', 'City/State', \n",
        "               'Country', 'Winner', 'title_bout', 'weight_class']]"
      ],
      "execution_count": 29,
      "outputs": []
    },
    {
      "cell_type": "code",
      "metadata": {
        "colab": {
          "base_uri": "https://localhost:8080/",
          "height": 200
        },
        "id": "raA-kUnS1MaH",
        "outputId": "d1be4fe2-9d00-4ed0-ff9c-d11b6ade84b1"
      },
      "source": [
        "df_fight.head()"
      ],
      "execution_count": 30,
      "outputs": [
        {
          "output_type": "execute_result",
          "data": {
            "text/html": [
              "<div>\n",
              "<style scoped>\n",
              "    .dataframe tbody tr th:only-of-type {\n",
              "        vertical-align: middle;\n",
              "    }\n",
              "\n",
              "    .dataframe tbody tr th {\n",
              "        vertical-align: top;\n",
              "    }\n",
              "\n",
              "    .dataframe thead th {\n",
              "        text-align: right;\n",
              "    }\n",
              "</style>\n",
              "<table border=\"1\" class=\"dataframe\">\n",
              "  <thead>\n",
              "    <tr style=\"text-align: right;\">\n",
              "      <th></th>\n",
              "      <th>R_fighter</th>\n",
              "      <th>B_fighter</th>\n",
              "      <th>Referee</th>\n",
              "      <th>date</th>\n",
              "      <th>City/State</th>\n",
              "      <th>Country</th>\n",
              "      <th>Winner</th>\n",
              "      <th>title_bout</th>\n",
              "      <th>weight_class</th>\n",
              "    </tr>\n",
              "  </thead>\n",
              "  <tbody>\n",
              "    <tr>\n",
              "      <th>0</th>\n",
              "      <td>Adrian Yanez</td>\n",
              "      <td>Gustavo Lopez</td>\n",
              "      <td>Chris Tognoni</td>\n",
              "      <td>2021-03-20</td>\n",
              "      <td>Las Vegas,  Nevada</td>\n",
              "      <td>USA</td>\n",
              "      <td>Red</td>\n",
              "      <td>False</td>\n",
              "      <td>Bantamweight</td>\n",
              "    </tr>\n",
              "    <tr>\n",
              "      <th>1</th>\n",
              "      <td>Trevin Giles</td>\n",
              "      <td>Roman Dolidze</td>\n",
              "      <td>Herb Dean</td>\n",
              "      <td>2021-03-20</td>\n",
              "      <td>Las Vegas,  Nevada</td>\n",
              "      <td>USA</td>\n",
              "      <td>Red</td>\n",
              "      <td>False</td>\n",
              "      <td>Middleweight</td>\n",
              "    </tr>\n",
              "    <tr>\n",
              "      <th>2</th>\n",
              "      <td>Tai Tuivasa</td>\n",
              "      <td>Harry Hunsucker</td>\n",
              "      <td>Herb Dean</td>\n",
              "      <td>2021-03-20</td>\n",
              "      <td>Las Vegas,  Nevada</td>\n",
              "      <td>USA</td>\n",
              "      <td>Red</td>\n",
              "      <td>False</td>\n",
              "      <td>Heavyweight</td>\n",
              "    </tr>\n",
              "    <tr>\n",
              "      <th>3</th>\n",
              "      <td>Cheyanne Buys</td>\n",
              "      <td>Montserrat Conejo</td>\n",
              "      <td>Mark Smith</td>\n",
              "      <td>2021-03-20</td>\n",
              "      <td>Las Vegas,  Nevada</td>\n",
              "      <td>USA</td>\n",
              "      <td>Blue</td>\n",
              "      <td>False</td>\n",
              "      <td>WomenStrawweight</td>\n",
              "    </tr>\n",
              "    <tr>\n",
              "      <th>4</th>\n",
              "      <td>Marion Reneau</td>\n",
              "      <td>Macy Chiasson</td>\n",
              "      <td>Mark Smith</td>\n",
              "      <td>2021-03-20</td>\n",
              "      <td>Las Vegas,  Nevada</td>\n",
              "      <td>USA</td>\n",
              "      <td>Blue</td>\n",
              "      <td>False</td>\n",
              "      <td>WomenBantamweight</td>\n",
              "    </tr>\n",
              "  </tbody>\n",
              "</table>\n",
              "</div>"
            ],
            "text/plain": [
              "       R_fighter          B_fighter  ... title_bout       weight_class\n",
              "0   Adrian Yanez      Gustavo Lopez  ...      False       Bantamweight\n",
              "1   Trevin Giles      Roman Dolidze  ...      False       Middleweight\n",
              "2    Tai Tuivasa    Harry Hunsucker  ...      False        Heavyweight\n",
              "3  Cheyanne Buys  Montserrat Conejo  ...      False   WomenStrawweight\n",
              "4  Marion Reneau      Macy Chiasson  ...      False  WomenBantamweight\n",
              "\n",
              "[5 rows x 9 columns]"
            ]
          },
          "metadata": {},
          "execution_count": 30
        }
      ]
    },
    {
      "cell_type": "markdown",
      "metadata": {
        "id": "zDE48mVz1MaI"
      },
      "source": [
        "# \n",
        "# ESTATÍSTICAS E VISUALIZAÇÕES\n",
        "# "
      ]
    },
    {
      "cell_type": "markdown",
      "metadata": {
        "id": "Sp2hCBjR1MaJ"
      },
      "source": [
        "# Contando as categorias de peso"
      ]
    },
    {
      "cell_type": "code",
      "metadata": {
        "colab": {
          "base_uri": "https://localhost:8080/"
        },
        "id": "BOlcg4ac1MaJ",
        "outputId": "8bb62a21-5e4e-4db0-bdea-f22a69cc66b7"
      },
      "source": [
        "df['weight_class'].value_counts()"
      ],
      "execution_count": 84,
      "outputs": [
        {
          "output_type": "execute_result",
          "data": {
            "text/plain": [
              "Lightweight           601\n",
              "Welterweight          547\n",
              "Middleweight          391\n",
              "Featherweight         338\n",
              "Bantamweight          300\n",
              "LightHeavyweight      264\n",
              "Heavyweight           243\n",
              "Flyweight             159\n",
              "WomenStrawweight      120\n",
              "WomenBantamweight      84\n",
              "WomenFlyweight         37\n",
              "CatchWeight            15\n",
              "WomenFeatherweight      9\n",
              "Name: weight_class, dtype: int64"
            ]
          },
          "metadata": {},
          "execution_count": 84
        }
      ]
    },
    {
      "cell_type": "code",
      "metadata": {
        "colab": {
          "base_uri": "https://localhost:8080/",
          "height": 723
        },
        "id": "Y39fSiFo1MaK",
        "outputId": "5540b619-1a6b-452c-a2f7-a42aeadd8e4c"
      },
      "source": [
        "df['weight_class'].value_counts().plot.bar(title=\"Categorias de peso\",figsize=(10,10))"
      ],
      "execution_count": 85,
      "outputs": [
        {
          "output_type": "execute_result",
          "data": {
            "text/plain": [
              "<matplotlib.axes._subplots.AxesSubplot at 0x7f670c7aa0d0>"
            ]
          },
          "metadata": {},
          "execution_count": 85
        },
        {
          "output_type": "display_data",
          "data": {
            "image/png": "[encoded data removed]",
            "text/plain": [
              "<Figure size 720x720 with 1 Axes>"
            ]
          },
          "metadata": {
            "needs_background": "light"
          }
        }
      ]
    },
    {
      "cell_type": "markdown",
      "metadata": {
        "id": "kUnu0oG91MaL"
      },
      "source": [
        "# Contando a posição dominante"
      ]
    },
    {
      "cell_type": "code",
      "metadata": {
        "colab": {
          "base_uri": "https://localhost:8080/"
        },
        "id": "xe_3C5cy1MaR",
        "outputId": "a11a7729-9111-472f-fbfb-ff0dae5447da"
      },
      "source": [
        "df['R_Stance'].value_counts().head()"
      ],
      "execution_count": 33,
      "outputs": [
        {
          "output_type": "execute_result",
          "data": {
            "text/plain": [
              "Orthodox       3405\n",
              "Southpaw        962\n",
              "Switch          139\n",
              "Open Stance      11\n",
              "Name: R_Stance, dtype: int64"
            ]
          },
          "metadata": {},
          "execution_count": 33
        }
      ]
    },
    {
      "cell_type": "code",
      "metadata": {
        "colab": {
          "base_uri": "https://localhost:8080/",
          "height": 388
        },
        "id": "XfeJ4llG1MaS",
        "outputId": "2f0a3d7a-a772-42f6-f074-dfd8bb8a3307"
      },
      "source": [
        "df['R_Stance'].value_counts().plot.pie( title=\"Mão dominante\",figsize=(6,6))"
      ],
      "execution_count": 34,
      "outputs": [
        {
          "output_type": "execute_result",
          "data": {
            "text/plain": [
              "<matplotlib.axes._subplots.AxesSubplot at 0x7f671018c990>"
            ]
          },
          "metadata": {},
          "execution_count": 34
        },
        {
          "output_type": "display_data",
          "data": {
            "image/png": "[encoded data removed]",
            "text/plain": [
              "<Figure size 432x432 with 1 Axes>"
            ]
          },
          "metadata": {}
        }
      ]
    },
    {
      "cell_type": "markdown",
      "metadata": {
        "id": "a0z3lbeH1MaT"
      },
      "source": [
        "# Separando por partidas que ocorreram títulos"
      ]
    },
    {
      "cell_type": "code",
      "metadata": {
        "id": "xj896SKE1MaU"
      },
      "source": [
        "to_drop = df_fight['title_bout'] == True"
      ],
      "execution_count": 35,
      "outputs": []
    },
    {
      "cell_type": "code",
      "metadata": {
        "colab": {
          "base_uri": "https://localhost:8080/",
          "height": 408
        },
        "id": "M-8ou1tn1MaV",
        "outputId": "0a3d6c05-771e-4b66-dea0-924b3adc2fbc"
      },
      "source": [
        "df_titulos = df_fight[to_drop]\n",
        "df_titulos"
      ],
      "execution_count": 36,
      "outputs": [
        {
          "output_type": "execute_result",
          "data": {
            "text/html": [
              "<div>\n",
              "<style scoped>\n",
              "    .dataframe tbody tr th:only-of-type {\n",
              "        vertical-align: middle;\n",
              "    }\n",
              "\n",
              "    .dataframe tbody tr th {\n",
              "        vertical-align: top;\n",
              "    }\n",
              "\n",
              "    .dataframe thead th {\n",
              "        text-align: right;\n",
              "    }\n",
              "</style>\n",
              "<table border=\"1\" class=\"dataframe\">\n",
              "  <thead>\n",
              "    <tr style=\"text-align: right;\">\n",
              "      <th></th>\n",
              "      <th>R_fighter</th>\n",
              "      <th>B_fighter</th>\n",
              "      <th>Referee</th>\n",
              "      <th>date</th>\n",
              "      <th>City/State</th>\n",
              "      <th>Country</th>\n",
              "      <th>Winner</th>\n",
              "      <th>title_bout</th>\n",
              "      <th>weight_class</th>\n",
              "    </tr>\n",
              "  </thead>\n",
              "  <tbody>\n",
              "    <tr>\n",
              "      <th>25</th>\n",
              "      <td>Petr Yan</td>\n",
              "      <td>Aljamain Sterling</td>\n",
              "      <td>Mark Smith</td>\n",
              "      <td>2021-03-06</td>\n",
              "      <td>Las Vegas,  Nevada</td>\n",
              "      <td>USA</td>\n",
              "      <td>Blue</td>\n",
              "      <td>True</td>\n",
              "      <td>Bantamweight</td>\n",
              "    </tr>\n",
              "    <tr>\n",
              "      <th>26</th>\n",
              "      <td>Jan Blachowicz</td>\n",
              "      <td>Israel Adesanya</td>\n",
              "      <td>Herb Dean</td>\n",
              "      <td>2021-03-06</td>\n",
              "      <td>Las Vegas,  Nevada</td>\n",
              "      <td>USA</td>\n",
              "      <td>Red</td>\n",
              "      <td>True</td>\n",
              "      <td>LightHeavyweight</td>\n",
              "    </tr>\n",
              "    <tr>\n",
              "      <th>29</th>\n",
              "      <td>Amanda Nunes</td>\n",
              "      <td>Megan Anderson</td>\n",
              "      <td>Jason Herzog</td>\n",
              "      <td>2021-03-06</td>\n",
              "      <td>Las Vegas,  Nevada</td>\n",
              "      <td>USA</td>\n",
              "      <td>Red</td>\n",
              "      <td>True</td>\n",
              "      <td>WomenFeatherweight</td>\n",
              "    </tr>\n",
              "    <tr>\n",
              "      <th>62</th>\n",
              "      <td>Kamaru Usman</td>\n",
              "      <td>Gilbert Burns</td>\n",
              "      <td>Herb Dean</td>\n",
              "      <td>2021-02-13</td>\n",
              "      <td>Las Vegas,  Nevada</td>\n",
              "      <td>USA</td>\n",
              "      <td>Red</td>\n",
              "      <td>True</td>\n",
              "      <td>Welterweight</td>\n",
              "    </tr>\n",
              "    <tr>\n",
              "      <th>132</th>\n",
              "      <td>Deiveson Figueiredo</td>\n",
              "      <td>Brandon Moreno</td>\n",
              "      <td>Jason Herzog</td>\n",
              "      <td>2020-12-12</td>\n",
              "      <td>Las Vegas,  Nevada</td>\n",
              "      <td>USA</td>\n",
              "      <td>Draw</td>\n",
              "      <td>True</td>\n",
              "      <td>Flyweight</td>\n",
              "    </tr>\n",
              "    <tr>\n",
              "      <th>...</th>\n",
              "      <td>...</td>\n",
              "      <td>...</td>\n",
              "      <td>...</td>\n",
              "      <td>...</td>\n",
              "      <td>...</td>\n",
              "      <td>...</td>\n",
              "      <td>...</td>\n",
              "      <td>...</td>\n",
              "      <td>...</td>\n",
              "    </tr>\n",
              "    <tr>\n",
              "      <th>5737</th>\n",
              "      <td>Tito Ortiz</td>\n",
              "      <td>Vladimir Matyushenko</td>\n",
              "      <td>John McCarthy</td>\n",
              "      <td>2001-09-28</td>\n",
              "      <td>Las Vegas,  Nevada</td>\n",
              "      <td>USA</td>\n",
              "      <td>Red</td>\n",
              "      <td>True</td>\n",
              "      <td>LightHeavyweight</td>\n",
              "    </tr>\n",
              "    <tr>\n",
              "      <th>5739</th>\n",
              "      <td>Jens Pulver</td>\n",
              "      <td>Dennis Hallman</td>\n",
              "      <td>Mario Yamasaki</td>\n",
              "      <td>2001-09-28</td>\n",
              "      <td>Las Vegas,  Nevada</td>\n",
              "      <td>USA</td>\n",
              "      <td>Red</td>\n",
              "      <td>True</td>\n",
              "      <td>Lightweight</td>\n",
              "    </tr>\n",
              "    <tr>\n",
              "      <th>5744</th>\n",
              "      <td>Tito Ortiz</td>\n",
              "      <td>Elvis Sinosic</td>\n",
              "      <td>John McCarthy</td>\n",
              "      <td>2001-06-29</td>\n",
              "      <td>East Rutherford,  New Jersey</td>\n",
              "      <td>USA</td>\n",
              "      <td>Red</td>\n",
              "      <td>True</td>\n",
              "      <td>LightHeavyweight</td>\n",
              "    </tr>\n",
              "    <tr>\n",
              "      <th>5759</th>\n",
              "      <td>Tito Ortiz</td>\n",
              "      <td>Evan Tanner</td>\n",
              "      <td>John McCarthy</td>\n",
              "      <td>2001-02-23</td>\n",
              "      <td>Atlantic City,  New Jersey</td>\n",
              "      <td>USA</td>\n",
              "      <td>Red</td>\n",
              "      <td>True</td>\n",
              "      <td>LightHeavyweight</td>\n",
              "    </tr>\n",
              "    <tr>\n",
              "      <th>5760</th>\n",
              "      <td>Jens Pulver</td>\n",
              "      <td>Caol Uno</td>\n",
              "      <td>John McCarthy</td>\n",
              "      <td>2001-02-23</td>\n",
              "      <td>Atlantic City,  New Jersey</td>\n",
              "      <td>USA</td>\n",
              "      <td>Red</td>\n",
              "      <td>True</td>\n",
              "      <td>Lightweight</td>\n",
              "    </tr>\n",
              "  </tbody>\n",
              "</table>\n",
              "<p>285 rows × 9 columns</p>\n",
              "</div>"
            ],
            "text/plain": [
              "                R_fighter             B_fighter  ... title_bout        weight_class\n",
              "25               Petr Yan     Aljamain Sterling  ...       True        Bantamweight\n",
              "26         Jan Blachowicz       Israel Adesanya  ...       True    LightHeavyweight\n",
              "29           Amanda Nunes        Megan Anderson  ...       True  WomenFeatherweight\n",
              "62           Kamaru Usman         Gilbert Burns  ...       True        Welterweight\n",
              "132   Deiveson Figueiredo        Brandon Moreno  ...       True           Flyweight\n",
              "...                   ...                   ...  ...        ...                 ...\n",
              "5737           Tito Ortiz  Vladimir Matyushenko  ...       True    LightHeavyweight\n",
              "5739          Jens Pulver        Dennis Hallman  ...       True         Lightweight\n",
              "5744           Tito Ortiz         Elvis Sinosic  ...       True    LightHeavyweight\n",
              "5759           Tito Ortiz           Evan Tanner  ...       True    LightHeavyweight\n",
              "5760          Jens Pulver              Caol Uno  ...       True         Lightweight\n",
              "\n",
              "[285 rows x 9 columns]"
            ]
          },
          "metadata": {},
          "execution_count": 36
        }
      ]
    },
    {
      "cell_type": "code",
      "metadata": {
        "colab": {
          "base_uri": "https://localhost:8080/"
        },
        "id": "GmZhJP_W1MaW",
        "outputId": "0693d227-5786-4e15-ae12-89239add2384"
      },
      "source": [
        "df_titulos['Country'].value_counts()"
      ],
      "execution_count": 37,
      "outputs": [
        {
          "output_type": "execute_result",
          "data": {
            "text/plain": [
              " USA                     231\n",
              " Canada                   23\n",
              " United Arab Emirates      8\n",
              " Brazil                    8\n",
              " Australia                 5\n",
              " Mexico                    4\n",
              " United Kingdom            4\n",
              " China                     1\n",
              " Germany                   1\n",
              "Name: Country, dtype: int64"
            ]
          },
          "metadata": {},
          "execution_count": 37
        }
      ]
    },
    {
      "cell_type": "code",
      "metadata": {
        "colab": {
          "base_uri": "https://localhost:8080/",
          "height": 607
        },
        "id": "dqw0m84m1MaW",
        "outputId": "016f24b9-cf5e-4fdc-db20-631ec53c090e"
      },
      "source": [
        "df_titulos['Country'].value_counts().plot.pie(y='Paises', title=\"Países que mais ocorreram lutas de titulo\",figsize=(10,10))"
      ],
      "execution_count": 38,
      "outputs": [
        {
          "output_type": "execute_result",
          "data": {
            "text/plain": [
              "<matplotlib.axes._subplots.AxesSubplot at 0x7f6710dc4f90>"
            ]
          },
          "metadata": {},
          "execution_count": 38
        },
        {
          "output_type": "display_data",
          "data": {
            "image/png": "[encoded data removed]",
            "text/plain": [
              "<Figure size 720x720 with 1 Axes>"
            ]
          },
          "metadata": {}
        }
      ]
    },
    {
      "cell_type": "code",
      "metadata": {
        "colab": {
          "base_uri": "https://localhost:8080/"
        },
        "id": "ZEgFWc1i1MaX",
        "outputId": "d84674af-79f7-49e6-c0d4-9c5922c23401"
      },
      "source": [
        "df_titulos['City/State'].value_counts()"
      ],
      "execution_count": 39,
      "outputs": [
        {
          "output_type": "execute_result",
          "data": {
            "text/plain": [
              "Las Vegas,  Nevada                 132\n",
              "Toronto,  Ontario                   10\n",
              "Anaheim,  California                 9\n",
              "Abu Dhabi,  Abu Dhabi                8\n",
              "Los Angeles,  California             8\n",
              "New York City,  New York             7\n",
              "Houston,  Texas                      7\n",
              "Montreal,  Quebec                    7\n",
              "Newark,  New Jersey                  6\n",
              "Sacramento,  California              6\n",
              "Dallas,  Texas                       6\n",
              "Atlantic City,  New Jersey           5\n",
              "Chicago,  Illinois                   5\n",
              "Atlanta,  Georgia                    4\n",
              "Boston,  Massachusetts               4\n",
              "Mexico City,  Distrito Federal       4\n",
              "Brooklyn,  New York                  4\n",
              "Rio de Janeiro,  Rio de Janeiro      4\n",
              "Uncasville,  Connecticut             3\n",
              "Melbourne,  Victoria                 3\n",
              "Seattle,  Washington                 2\n",
              "London,  England                     2\n",
              "Edmonton,  Alberta                   2\n",
              "Columbus,  Ohio                      2\n",
              "Belo Horizonte,  Minas Gerais        2\n",
              "Denver,  Colorado                    2\n",
              "Quebec City,  Quebec                 2\n",
              "Jacksonville,  Florida               2\n",
              "Cleveland,  Ohio                     1\n",
              "Baltimore,  Maryland                 1\n",
              "Philadelphia,  Pennsylvania          1\n",
              "Buffalo,  New York                   1\n",
              "Shenzhen,  Guangdong                 1\n",
              "Rosemont,  Illinois                  1\n",
              "Oakland,  California                 1\n",
              "Newcastle,  England                  1\n",
              "Perth,  Western Australia            1\n",
              "Gold Coast,  Queensland              1\n",
              "Minneapolis,  Minnesota              1\n",
              "Washington,  DC                      1\n",
              "East Rutherford,  New Jersey         1\n",
              "Berlin,  Berlin                      1\n",
              "Memphis,  Tennessee                  1\n",
              "Kansas City,  Missouri               1\n",
              "Vancouver,  British Columbia         1\n",
              "Manchester,  England                 1\n",
              "Curitiba,  Parana                    1\n",
              "Cincinnati,  Ohio                    1\n",
              "Detroit,  Michigan                   1\n",
              "Calgary,  Alberta                    1\n",
              "Fortaleza,  Ceara                    1\n",
              "Orlando,  Florida                    1\n",
              "Milwaukee,  Wisconsin                1\n",
              "Miami,  Florida                      1\n",
              "San Jose,  California                1\n",
              "Name: City/State, dtype: int64"
            ]
          },
          "metadata": {},
          "execution_count": 39
        }
      ]
    },
    {
      "cell_type": "code",
      "metadata": {
        "colab": {
          "base_uri": "https://localhost:8080/",
          "height": 761
        },
        "id": "n5lDJcJO1MaY",
        "outputId": "84a5dac8-2dcb-4827-85cd-3da45321ee83"
      },
      "source": [
        "df_titulos['City/State'].value_counts().plot.bar(y='Cidade/Estados', title=\"Cidade/Estado que sediaram a luta\",figsize=(10,10))"
      ],
      "execution_count": 40,
      "outputs": [
        {
          "output_type": "execute_result",
          "data": {
            "text/plain": [
              "<matplotlib.axes._subplots.AxesSubplot at 0x7f670fc27d50>"
            ]
          },
          "metadata": {},
          "execution_count": 40
        },
        {
          "output_type": "display_data",
          "data": {
            "image/png": "[encoded data removed]",
            "text/plain": [
              "<Figure size 720x720 with 1 Axes>"
            ]
          },
          "metadata": {
            "needs_background": "light"
          }
        }
      ]
    },
    {
      "cell_type": "code",
      "metadata": {
        "colab": {
          "base_uri": "https://localhost:8080/"
        },
        "id": "V7zdqNEi1MaZ",
        "outputId": "273e0b11-8e2b-4143-acfe-41a0f83e4def"
      },
      "source": [
        "df_titulos['Referee'].value_counts().head(10)"
      ],
      "execution_count": 41,
      "outputs": [
        {
          "output_type": "execute_result",
          "data": {
            "text/plain": [
              "Herb Dean           87\n",
              "John McCarthy       71\n",
              "Marc Goddard        23\n",
              "Yves Lavigne        21\n",
              "Dan Miragliotta     16\n",
              "Steve Mazzagatti    13\n",
              "Mario Yamasaki      12\n",
              "Keith Peterson       8\n",
              "Jason Herzog         6\n",
              "Josh Rosenthal       6\n",
              "Name: Referee, dtype: int64"
            ]
          },
          "metadata": {},
          "execution_count": 41
        }
      ]
    },
    {
      "cell_type": "code",
      "metadata": {
        "colab": {
          "base_uri": "https://localhost:8080/",
          "height": 445
        },
        "id": "htcvRcqp1Mab",
        "outputId": "c270f3cb-2e6f-4447-bb8c-c957d053f37c"
      },
      "source": [
        "df_titulos['Referee'].value_counts().head(10).plot.pie(y='Juizes', title='10 Árbritos que mais participaram de titulos',figsize=(7,7))"
      ],
      "execution_count": 42,
      "outputs": [
        {
          "output_type": "execute_result",
          "data": {
            "text/plain": [
              "<matplotlib.axes._subplots.AxesSubplot at 0x7f670fa76d90>"
            ]
          },
          "metadata": {},
          "execution_count": 42
        },
        {
          "output_type": "display_data",
          "data": {
            "image/png": "[encoded data removed]",
            "text/plain": [
              "<Figure size 504x504 with 1 Axes>"
            ]
          },
          "metadata": {}
        }
      ]
    },
    {
      "cell_type": "markdown",
      "metadata": {
        "id": "IYvqjOfz1Mac"
      },
      "source": [
        "# Lutadores que mais venceram nos ultimos 10 anos"
      ]
    },
    {
      "cell_type": "code",
      "metadata": {
        "colab": {
          "base_uri": "https://localhost:8080/",
          "height": 0
        },
        "id": "JOqUxaJd1Mad",
        "outputId": "a7ba72e8-70ff-4e04-cb39-e2acf947f801"
      },
      "source": [
        "# Mudando o indice para filtrar os ultimos 10 anos\n",
        "df.set_index('date', inplace=True)\n",
        "\n",
        "# selecionando as lutas dos ultimos 10 anos \n",
        "df = df.loc['2019-06-08':'2010-01-0']\n",
        "\n",
        "# Tirando as colunas que não interessam\n",
        "important_dataall = df[['R_fighter', 'B_fighter', 'Winner']]\n",
        "important_datared = df[['R_fighter', 'B_fighter', 'Winner']]\n",
        "important_datablue = df[['R_fighter', 'B_fighter', 'Winner']]\n",
        "important_dataall.head()"
      ],
      "execution_count": 43,
      "outputs": [
        {
          "output_type": "execute_result",
          "data": {
            "text/html": [
              "<div>\n",
              "<style scoped>\n",
              "    .dataframe tbody tr th:only-of-type {\n",
              "        vertical-align: middle;\n",
              "    }\n",
              "\n",
              "    .dataframe tbody tr th {\n",
              "        vertical-align: top;\n",
              "    }\n",
              "\n",
              "    .dataframe thead th {\n",
              "        text-align: right;\n",
              "    }\n",
              "</style>\n",
              "<table border=\"1\" class=\"dataframe\">\n",
              "  <thead>\n",
              "    <tr style=\"text-align: right;\">\n",
              "      <th></th>\n",
              "      <th>R_fighter</th>\n",
              "      <th>B_fighter</th>\n",
              "      <th>Winner</th>\n",
              "    </tr>\n",
              "    <tr>\n",
              "      <th>date</th>\n",
              "      <th></th>\n",
              "      <th></th>\n",
              "      <th></th>\n",
              "    </tr>\n",
              "  </thead>\n",
              "  <tbody>\n",
              "    <tr>\n",
              "      <th>2019-06-08</th>\n",
              "      <td>Aljamain Sterling</td>\n",
              "      <td>Pedro Munhoz</td>\n",
              "      <td>Red</td>\n",
              "    </tr>\n",
              "    <tr>\n",
              "      <th>2019-06-08</th>\n",
              "      <td>Tatiana Suarez</td>\n",
              "      <td>Nina Ansaroff</td>\n",
              "      <td>Red</td>\n",
              "    </tr>\n",
              "    <tr>\n",
              "      <th>2019-06-08</th>\n",
              "      <td>Tai Tuivasa</td>\n",
              "      <td>Blagoy Ivanov</td>\n",
              "      <td>Blue</td>\n",
              "    </tr>\n",
              "    <tr>\n",
              "      <th>2019-06-08</th>\n",
              "      <td>Valentina Shevchenko</td>\n",
              "      <td>Jessica Eye</td>\n",
              "      <td>Red</td>\n",
              "    </tr>\n",
              "    <tr>\n",
              "      <th>2019-06-08</th>\n",
              "      <td>Jimmie Rivera</td>\n",
              "      <td>Petr Yan</td>\n",
              "      <td>Blue</td>\n",
              "    </tr>\n",
              "  </tbody>\n",
              "</table>\n",
              "</div>"
            ],
            "text/plain": [
              "                       R_fighter      B_fighter Winner\n",
              "date                                                  \n",
              "2019-06-08     Aljamain Sterling   Pedro Munhoz    Red\n",
              "2019-06-08        Tatiana Suarez  Nina Ansaroff    Red\n",
              "2019-06-08           Tai Tuivasa  Blagoy Ivanov   Blue\n",
              "2019-06-08  Valentina Shevchenko    Jessica Eye    Red\n",
              "2019-06-08         Jimmie Rivera       Petr Yan   Blue"
            ]
          },
          "metadata": {},
          "execution_count": 43
        }
      ]
    },
    {
      "cell_type": "code",
      "metadata": {
        "colab": {
          "base_uri": "https://localhost:8080/"
        },
        "id": "1bHioWHj1Mad",
        "outputId": "ab1f9f5b-309b-422a-b373-379049f2d9e9"
      },
      "source": [
        "def get_winner(row):\n",
        "    if row['Winner'] == 'Red':\n",
        "        return row['R_fighter']\n",
        "    elif row['Winner'] == 'Blue':\n",
        "        return row['B_fighter']\n",
        "    else:\n",
        "        return None\n",
        "    \n",
        "#\n",
        "pd.options.mode.chained_assignment = None \n",
        "\n",
        "# Salvando o nome do vencedor na nova coluna\n",
        "important_dataall['Winner_name'] = important_dataall.apply(get_winner, axis=1)\n",
        "\n",
        "# Contando as ocorrencias de cada nome\n",
        "winner = important_dataall['Winner_name']\n",
        "winner.value_counts().head()"
      ],
      "execution_count": 44,
      "outputs": [
        {
          "output_type": "execute_result",
          "data": {
            "text/plain": [
              "Donald Cerrone      23\n",
              "Dustin Poirier      17\n",
              "Jim Miller          15\n",
              "Rafael Dos Anjos    15\n",
              "Jon Jones           15\n",
              "Name: Winner_name, dtype: int64"
            ]
          },
          "metadata": {},
          "execution_count": 44
        }
      ]
    },
    {
      "cell_type": "code",
      "metadata": {
        "colab": {
          "base_uri": "https://localhost:8080/",
          "height": 0
        },
        "id": "4G6yRjF51Mae",
        "outputId": "e2bc6b9f-6e4e-425b-e9ea-66b86127a1c5"
      },
      "source": [
        "winner.value_counts().head(10).plot.bar(y='nomes', title='Lutares que mais venceram',figsize=(7,7))"
      ],
      "execution_count": 45,
      "outputs": [
        {
          "output_type": "execute_result",
          "data": {
            "text/plain": [
              "<matplotlib.axes._subplots.AxesSubplot at 0x7f670e1ec910>"
            ]
          },
          "metadata": {},
          "execution_count": 45
        },
        {
          "output_type": "display_data",
          "data": {
            "image/png": "[encoded data removed]",
            "text/plain": [
              "<Figure size 504x504 with 1 Axes>"
            ]
          },
          "metadata": {
            "needs_background": "light"
          }
        }
      ]
    },
    {
      "cell_type": "code",
      "metadata": {
        "colab": {
          "base_uri": "https://localhost:8080/"
        },
        "id": "c2NbL90S1Mae",
        "outputId": "9c2ca8c3-14eb-4727-cf00-8d1c14f46eea"
      },
      "source": [
        "def get_winnerblue(row):\n",
        "    if row['Winner'] == 'Blue':\n",
        "        return row['B_fighter']\n",
        "    else:\n",
        "        return None\n",
        "    \n",
        "#\n",
        "pd.options.mode.chained_assignment = None \n",
        "\n",
        "# Salvando o nome do vencedor na nova coluna\n",
        "important_datablue['Winner_name'] = important_datablue.apply(get_winnerblue, axis=1)\n",
        "\n",
        "# Contando as ocorrencias de cada nome\n",
        "winnerblue = important_datablue['Winner_name']\n",
        "winnerblue.value_counts().head()"
      ],
      "execution_count": 46,
      "outputs": [
        {
          "output_type": "execute_result",
          "data": {
            "text/plain": [
              "Kevin Lee           8\n",
              "Charles Oliveira    8\n",
              "Nik Lentz           7\n",
              "Yoel Romero         7\n",
              "Rafael Dos Anjos    7\n",
              "Name: Winner_name, dtype: int64"
            ]
          },
          "metadata": {},
          "execution_count": 46
        }
      ]
    },
    {
      "cell_type": "code",
      "metadata": {
        "colab": {
          "base_uri": "https://localhost:8080/",
          "height": 0
        },
        "id": "eSKiyMaR1Maf",
        "outputId": "68cb07d3-aa9e-4355-d660-4b3ec7822882"
      },
      "source": [
        "winnerblue.value_counts().head(10).plot.bar(y='nomes', title='Lutares que mais venceram do lado azul',figsize=(10,10))"
      ],
      "execution_count": 47,
      "outputs": [
        {
          "output_type": "execute_result",
          "data": {
            "text/plain": [
              "<matplotlib.axes._subplots.AxesSubplot at 0x7f670e197610>"
            ]
          },
          "metadata": {},
          "execution_count": 47
        },
        {
          "output_type": "display_data",
          "data": {
            "image/png": "[encoded data removed]",
            "text/plain": [
              "<Figure size 720x720 with 1 Axes>"
            ]
          },
          "metadata": {
            "needs_background": "light"
          }
        }
      ]
    },
    {
      "cell_type": "code",
      "metadata": {
        "colab": {
          "base_uri": "https://localhost:8080/"
        },
        "id": "k4H-1XN91Maf",
        "outputId": "89a1addc-c287-411e-c54d-c3ab7713c104"
      },
      "source": [
        "def get_winnerred(row):\n",
        "    if row['Winner'] == 'Red':\n",
        "        return row['R_fighter']\n",
        "    else:\n",
        "        return None\n",
        "    \n",
        "#\n",
        "pd.options.mode.chained_assignment = None \n",
        "\n",
        "# Salvando o nome do vencedor na nova coluna\n",
        "important_dataall['Winner_name'] = important_dataall.apply(get_winnerred, axis=1)\n",
        "\n",
        "# Contando as ocorrencias de cada nome\n",
        "winnerred = important_dataall['Winner_name']\n",
        "winnerred.value_counts().head()"
      ],
      "execution_count": 48,
      "outputs": [
        {
          "output_type": "execute_result",
          "data": {
            "text/plain": [
              "Donald Cerrone        18\n",
              "Dustin Poirier        14\n",
              "Jon Jones             13\n",
              "Jim Miller            13\n",
              "Demetrious Johnson    12\n",
              "Name: Winner_name, dtype: int64"
            ]
          },
          "metadata": {},
          "execution_count": 48
        }
      ]
    },
    {
      "cell_type": "code",
      "metadata": {
        "colab": {
          "base_uri": "https://localhost:8080/",
          "height": 0
        },
        "id": "_p2AkGGg1Mag",
        "outputId": "96925ea4-57ac-40ef-b743-803f82691648"
      },
      "source": [
        "winnerred.value_counts().head(10).plot.bar(y='nomes', title='Lutares que mais venceram do lado vermelho',figsize=(10,10))"
      ],
      "execution_count": 49,
      "outputs": [
        {
          "output_type": "execute_result",
          "data": {
            "text/plain": [
              "<matplotlib.axes._subplots.AxesSubplot at 0x7f670e0bedd0>"
            ]
          },
          "metadata": {},
          "execution_count": 49
        },
        {
          "output_type": "display_data",
          "data": {
            "image/png": "[encoded data removed]",
            "text/plain": [
              "<Figure size 720x720 with 1 Axes>"
            ]
          },
          "metadata": {
            "needs_background": "light"
          }
        }
      ]
    },
    {
      "cell_type": "markdown",
      "metadata": {
        "id": "mu6PbgHH1Mah"
      },
      "source": [
        "# Lutadores que mais venceram por KO/TKO"
      ]
    },
    {
      "cell_type": "code",
      "metadata": {
        "id": "vgnkSApu1Mai"
      },
      "source": [
        "df_KO_TKO = df[[\"R_fighter\",\"B_fighter\",\"Winner\",\"B_win_by_KO/TKO\",'R_win_by_KO/TKO']]"
      ],
      "execution_count": 50,
      "outputs": []
    },
    {
      "cell_type": "code",
      "metadata": {
        "colab": {
          "base_uri": "https://localhost:8080/",
          "height": 0
        },
        "id": "WpD3_LqA1Mai",
        "outputId": "9ac2306f-62a1-4cc1-9a58-722042d5da5f"
      },
      "source": [
        "df_KO_TKO"
      ],
      "execution_count": 51,
      "outputs": [
        {
          "output_type": "execute_result",
          "data": {
            "text/html": [
              "<div>\n",
              "<style scoped>\n",
              "    .dataframe tbody tr th:only-of-type {\n",
              "        vertical-align: middle;\n",
              "    }\n",
              "\n",
              "    .dataframe tbody tr th {\n",
              "        vertical-align: top;\n",
              "    }\n",
              "\n",
              "    .dataframe thead th {\n",
              "        text-align: right;\n",
              "    }\n",
              "</style>\n",
              "<table border=\"1\" class=\"dataframe\">\n",
              "  <thead>\n",
              "    <tr style=\"text-align: right;\">\n",
              "      <th></th>\n",
              "      <th>R_fighter</th>\n",
              "      <th>B_fighter</th>\n",
              "      <th>Winner</th>\n",
              "      <th>B_win_by_KO/TKO</th>\n",
              "      <th>R_win_by_KO/TKO</th>\n",
              "    </tr>\n",
              "    <tr>\n",
              "      <th>date</th>\n",
              "      <th></th>\n",
              "      <th></th>\n",
              "      <th></th>\n",
              "      <th></th>\n",
              "      <th></th>\n",
              "    </tr>\n",
              "  </thead>\n",
              "  <tbody>\n",
              "    <tr>\n",
              "      <th>2019-06-08</th>\n",
              "      <td>Aljamain Sterling</td>\n",
              "      <td>Pedro Munhoz</td>\n",
              "      <td>Red</td>\n",
              "      <td>3</td>\n",
              "      <td>1</td>\n",
              "    </tr>\n",
              "    <tr>\n",
              "      <th>2019-06-08</th>\n",
              "      <td>Tatiana Suarez</td>\n",
              "      <td>Nina Ansaroff</td>\n",
              "      <td>Red</td>\n",
              "      <td>0</td>\n",
              "      <td>1</td>\n",
              "    </tr>\n",
              "    <tr>\n",
              "      <th>2019-06-08</th>\n",
              "      <td>Tai Tuivasa</td>\n",
              "      <td>Blagoy Ivanov</td>\n",
              "      <td>Blue</td>\n",
              "      <td>0</td>\n",
              "      <td>2</td>\n",
              "    </tr>\n",
              "    <tr>\n",
              "      <th>2019-06-08</th>\n",
              "      <td>Valentina Shevchenko</td>\n",
              "      <td>Jessica Eye</td>\n",
              "      <td>Red</td>\n",
              "      <td>0</td>\n",
              "      <td>0</td>\n",
              "    </tr>\n",
              "    <tr>\n",
              "      <th>2019-06-08</th>\n",
              "      <td>Jimmie Rivera</td>\n",
              "      <td>Petr Yan</td>\n",
              "      <td>Blue</td>\n",
              "      <td>2</td>\n",
              "      <td>1</td>\n",
              "    </tr>\n",
              "    <tr>\n",
              "      <th>...</th>\n",
              "      <td>...</td>\n",
              "      <td>...</td>\n",
              "      <td>...</td>\n",
              "      <td>...</td>\n",
              "      <td>...</td>\n",
              "    </tr>\n",
              "    <tr>\n",
              "      <th>2010-01-02</th>\n",
              "      <td>Sam Stout</td>\n",
              "      <td>Joe Lauzon</td>\n",
              "      <td>Red</td>\n",
              "      <td>2</td>\n",
              "      <td>0</td>\n",
              "    </tr>\n",
              "    <tr>\n",
              "      <th>2010-01-02</th>\n",
              "      <td>Rashad Evans</td>\n",
              "      <td>Thiago Silva</td>\n",
              "      <td>Red</td>\n",
              "      <td>5</td>\n",
              "      <td>4</td>\n",
              "    </tr>\n",
              "    <tr>\n",
              "      <th>2010-01-02</th>\n",
              "      <td>Mark Munoz</td>\n",
              "      <td>Ryan Jensen</td>\n",
              "      <td>Red</td>\n",
              "      <td>0</td>\n",
              "      <td>0</td>\n",
              "    </tr>\n",
              "    <tr>\n",
              "      <th>2010-01-02</th>\n",
              "      <td>Rafaello Oliveira</td>\n",
              "      <td>John Gunderson</td>\n",
              "      <td>Red</td>\n",
              "      <td>0</td>\n",
              "      <td>0</td>\n",
              "    </tr>\n",
              "    <tr>\n",
              "      <th>2010-01-02</th>\n",
              "      <td>Jake Ellenberger</td>\n",
              "      <td>Mike Pyle</td>\n",
              "      <td>Red</td>\n",
              "      <td>0</td>\n",
              "      <td>0</td>\n",
              "    </tr>\n",
              "  </tbody>\n",
              "</table>\n",
              "<p>3108 rows × 5 columns</p>\n",
              "</div>"
            ],
            "text/plain": [
              "                       R_fighter  ... R_win_by_KO/TKO\n",
              "date                              ...                \n",
              "2019-06-08     Aljamain Sterling  ...               1\n",
              "2019-06-08        Tatiana Suarez  ...               1\n",
              "2019-06-08           Tai Tuivasa  ...               2\n",
              "2019-06-08  Valentina Shevchenko  ...               0\n",
              "2019-06-08         Jimmie Rivera  ...               1\n",
              "...                          ...  ...             ...\n",
              "2010-01-02             Sam Stout  ...               0\n",
              "2010-01-02          Rashad Evans  ...               4\n",
              "2010-01-02            Mark Munoz  ...               0\n",
              "2010-01-02     Rafaello Oliveira  ...               0\n",
              "2010-01-02      Jake Ellenberger  ...               0\n",
              "\n",
              "[3108 rows x 5 columns]"
            ]
          },
          "metadata": {},
          "execution_count": 51
        }
      ]
    },
    {
      "cell_type": "code",
      "metadata": {
        "id": "YMytR77J1Mai"
      },
      "source": [
        "#separando em dois dataframes \"azul\" e \"vermelho\"\n",
        "df_blue = pd.DataFrame(df_KO_TKO.groupby(['B_fighter'], sort=False)['B_win_by_KO/TKO'].max())\n",
        "df_red = pd.DataFrame(df_KO_TKO.groupby(['R_fighter'], sort=False)['R_win_by_KO/TKO'].max())"
      ],
      "execution_count": 52,
      "outputs": []
    },
    {
      "cell_type": "code",
      "metadata": {
        "id": "vrWT-HKr1Maj"
      },
      "source": [
        "#Filtrando mais o dataframe \"azul\"\n",
        "df_blue[\"fighter\"] = df_blue.index\n",
        "df_blue.set_index(np.arange(1062),inplace =True)\n",
        "df_blue = df_blue[[\"fighter\",'B_win_by_KO/TKO']]\n",
        "df_blue[\"KO/TKO\"] = df_blue[\"B_win_by_KO/TKO\"]\n",
        "del df_blue[\"B_win_by_KO/TKO\"]"
      ],
      "execution_count": 53,
      "outputs": []
    },
    {
      "cell_type": "code",
      "metadata": {
        "id": "sXpg9ozc1Maj"
      },
      "source": [
        "#Filtrando mais o dataframe \"vermelho\"\n",
        "df_red[\"fighter\"] = df_red.index\n",
        "df_red.set_index(np.arange(927),inplace =True)\n",
        "df_red.rename(columns={'R_win_by_KO/TKO':'KO/TKO'},inplace =True)\n",
        "df_red = df_red[[\"fighter\",'KO/TKO']] "
      ],
      "execution_count": 54,
      "outputs": []
    },
    {
      "cell_type": "code",
      "metadata": {
        "id": "dNi5spS-1Mak"
      },
      "source": [
        "#Juntando os dois dataframes\n",
        "df_KO_TKO1 = pd.concat([df_red,df_blue])\n",
        "df_KOS = pd.DataFrame(df_KO_TKO1.groupby(['fighter'], sort=False)['KO/TKO'].max())"
      ],
      "execution_count": 55,
      "outputs": []
    },
    {
      "cell_type": "code",
      "metadata": {
        "id": "NHKJ9CAA1Mak"
      },
      "source": [
        "#Ajustando o maior numero de KO_TKO\n",
        "df_KOS[\"fighter1\"] = df_KOS.index\n",
        "df_KOS.set_index(np.arange(1178),inplace = True)\n",
        "df_KOS.rename(columns={'fighter1':'fighter'},inplace =True)\n",
        "df_KOS = df_KOS[['fighter','KO/TKO']]"
      ],
      "execution_count": 56,
      "outputs": []
    },
    {
      "cell_type": "code",
      "metadata": {
        "id": "mKq_nel21Mal"
      },
      "source": [
        "#Ordem decrescente\n",
        "df_KOS = df_KOS.sort_values(by = 'KO/TKO',ascending =False)"
      ],
      "execution_count": 57,
      "outputs": []
    },
    {
      "cell_type": "code",
      "metadata": {
        "colab": {
          "base_uri": "https://localhost:8080/",
          "height": 0
        },
        "id": "rjut84YB1Mal",
        "outputId": "ad4d18c6-c375-4060-b27e-17740d89d5cc"
      },
      "source": [
        "df_KOS = df_KOS.dropna()\n",
        "df_KOS"
      ],
      "execution_count": 58,
      "outputs": [
        {
          "output_type": "execute_result",
          "data": {
            "text/html": [
              "<div>\n",
              "<style scoped>\n",
              "    .dataframe tbody tr th:only-of-type {\n",
              "        vertical-align: middle;\n",
              "    }\n",
              "\n",
              "    .dataframe tbody tr th {\n",
              "        vertical-align: top;\n",
              "    }\n",
              "\n",
              "    .dataframe thead th {\n",
              "        text-align: right;\n",
              "    }\n",
              "</style>\n",
              "<table border=\"1\" class=\"dataframe\">\n",
              "  <thead>\n",
              "    <tr style=\"text-align: right;\">\n",
              "      <th></th>\n",
              "      <th>fighter</th>\n",
              "      <th>KO/TKO</th>\n",
              "    </tr>\n",
              "  </thead>\n",
              "  <tbody>\n",
              "    <tr>\n",
              "      <th>559</th>\n",
              "      <td>Anthony Johnson</td>\n",
              "      <td>11</td>\n",
              "    </tr>\n",
              "    <tr>\n",
              "      <th>499</th>\n",
              "      <td>Anderson Silva</td>\n",
              "      <td>11</td>\n",
              "    </tr>\n",
              "    <tr>\n",
              "      <th>356</th>\n",
              "      <td>Vitor Belfort</td>\n",
              "      <td>11</td>\n",
              "    </tr>\n",
              "    <tr>\n",
              "      <th>568</th>\n",
              "      <td>Cain Velasquez</td>\n",
              "      <td>10</td>\n",
              "    </tr>\n",
              "    <tr>\n",
              "      <th>241</th>\n",
              "      <td>Donald Cerrone</td>\n",
              "      <td>10</td>\n",
              "    </tr>\n",
              "    <tr>\n",
              "      <th>...</th>\n",
              "      <td>...</td>\n",
              "      <td>...</td>\n",
              "    </tr>\n",
              "    <tr>\n",
              "      <th>769</th>\n",
              "      <td>Mike Ricci</td>\n",
              "      <td>0</td>\n",
              "    </tr>\n",
              "    <tr>\n",
              "      <th>221</th>\n",
              "      <td>Mizuto Hirota</td>\n",
              "      <td>0</td>\n",
              "    </tr>\n",
              "    <tr>\n",
              "      <th>220</th>\n",
              "      <td>Elias Garcia</td>\n",
              "      <td>0</td>\n",
              "    </tr>\n",
              "    <tr>\n",
              "      <th>772</th>\n",
              "      <td>Yuri Villefort</td>\n",
              "      <td>0</td>\n",
              "    </tr>\n",
              "    <tr>\n",
              "      <th>589</th>\n",
              "      <td>Yan Cabral</td>\n",
              "      <td>0</td>\n",
              "    </tr>\n",
              "  </tbody>\n",
              "</table>\n",
              "<p>1178 rows × 2 columns</p>\n",
              "</div>"
            ],
            "text/plain": [
              "             fighter  KO/TKO\n",
              "559  Anthony Johnson      11\n",
              "499   Anderson Silva      11\n",
              "356    Vitor Belfort      11\n",
              "568   Cain Velasquez      10\n",
              "241   Donald Cerrone      10\n",
              "..               ...     ...\n",
              "769       Mike Ricci       0\n",
              "221    Mizuto Hirota       0\n",
              "220     Elias Garcia       0\n",
              "772   Yuri Villefort       0\n",
              "589       Yan Cabral       0\n",
              "\n",
              "[1178 rows x 2 columns]"
            ]
          },
          "metadata": {},
          "execution_count": 58
        }
      ]
    },
    {
      "cell_type": "code",
      "metadata": {
        "colab": {
          "base_uri": "https://localhost:8080/",
          "height": 0
        },
        "id": "rCj4YCg11Mam",
        "outputId": "17bfbe34-9765-4308-832d-ae034d48ca95"
      },
      "source": [
        "filtro = df_KOS['KO/TKO'] > 0\n",
        "New_df_KOS = df_KOS[filtro]\n",
        "New_df_KOS"
      ],
      "execution_count": 59,
      "outputs": [
        {
          "output_type": "execute_result",
          "data": {
            "text/html": [
              "<div>\n",
              "<style scoped>\n",
              "    .dataframe tbody tr th:only-of-type {\n",
              "        vertical-align: middle;\n",
              "    }\n",
              "\n",
              "    .dataframe tbody tr th {\n",
              "        vertical-align: top;\n",
              "    }\n",
              "\n",
              "    .dataframe thead th {\n",
              "        text-align: right;\n",
              "    }\n",
              "</style>\n",
              "<table border=\"1\" class=\"dataframe\">\n",
              "  <thead>\n",
              "    <tr style=\"text-align: right;\">\n",
              "      <th></th>\n",
              "      <th>fighter</th>\n",
              "      <th>KO/TKO</th>\n",
              "    </tr>\n",
              "  </thead>\n",
              "  <tbody>\n",
              "    <tr>\n",
              "      <th>559</th>\n",
              "      <td>Anthony Johnson</td>\n",
              "      <td>11</td>\n",
              "    </tr>\n",
              "    <tr>\n",
              "      <th>499</th>\n",
              "      <td>Anderson Silva</td>\n",
              "      <td>11</td>\n",
              "    </tr>\n",
              "    <tr>\n",
              "      <th>356</th>\n",
              "      <td>Vitor Belfort</td>\n",
              "      <td>11</td>\n",
              "    </tr>\n",
              "    <tr>\n",
              "      <th>568</th>\n",
              "      <td>Cain Velasquez</td>\n",
              "      <td>10</td>\n",
              "    </tr>\n",
              "    <tr>\n",
              "      <th>241</th>\n",
              "      <td>Donald Cerrone</td>\n",
              "      <td>10</td>\n",
              "    </tr>\n",
              "    <tr>\n",
              "      <th>...</th>\n",
              "      <td>...</td>\n",
              "      <td>...</td>\n",
              "    </tr>\n",
              "    <tr>\n",
              "      <th>443</th>\n",
              "      <td>Ryan Benoit</td>\n",
              "      <td>1</td>\n",
              "    </tr>\n",
              "    <tr>\n",
              "      <th>441</th>\n",
              "      <td>Cyril Asker</td>\n",
              "      <td>1</td>\n",
              "    </tr>\n",
              "    <tr>\n",
              "      <th>470</th>\n",
              "      <td>Frankie Perez</td>\n",
              "      <td>1</td>\n",
              "    </tr>\n",
              "    <tr>\n",
              "      <th>407</th>\n",
              "      <td>Vinc Pichel</td>\n",
              "      <td>1</td>\n",
              "    </tr>\n",
              "    <tr>\n",
              "      <th>465</th>\n",
              "      <td>Alvaro Herrera Mendoza</td>\n",
              "      <td>1</td>\n",
              "    </tr>\n",
              "  </tbody>\n",
              "</table>\n",
              "<p>573 rows × 2 columns</p>\n",
              "</div>"
            ],
            "text/plain": [
              "                    fighter  KO/TKO\n",
              "559         Anthony Johnson      11\n",
              "499          Anderson Silva      11\n",
              "356           Vitor Belfort      11\n",
              "568          Cain Velasquez      10\n",
              "241          Donald Cerrone      10\n",
              "..                      ...     ...\n",
              "443             Ryan Benoit       1\n",
              "441             Cyril Asker       1\n",
              "470           Frankie Perez       1\n",
              "407             Vinc Pichel       1\n",
              "465  Alvaro Herrera Mendoza       1\n",
              "\n",
              "[573 rows x 2 columns]"
            ]
          },
          "metadata": {},
          "execution_count": 59
        }
      ]
    },
    {
      "cell_type": "code",
      "metadata": {
        "colab": {
          "base_uri": "https://localhost:8080/",
          "height": 0
        },
        "id": "i2CEgeDm1Mam",
        "outputId": "d6427a98-a919-4346-f6bf-e1beca99a3b3"
      },
      "source": [
        "plot = New_df_KOS.head(18).plot.bar(y='KO/TKO', x='fighter', title='Números de KO/TKO',figsize=(10,10))"
      ],
      "execution_count": 60,
      "outputs": [
        {
          "output_type": "display_data",
          "data": {
            "image/png": "[encoded data removed]",
            "text/plain": [
              "<Figure size 720x720 with 1 Axes>"
            ]
          },
          "metadata": {
            "needs_background": "light"
          }
        }
      ]
    },
    {
      "cell_type": "markdown",
      "metadata": {
        "id": "ziTiMzN81Man"
      },
      "source": [
        "# \n",
        "# MODELO DE PREDIÇÃO DAS LUTAS\n",
        "# "
      ]
    },
    {
      "cell_type": "markdown",
      "metadata": {
        "id": "UkFQeE_T1Mao"
      },
      "source": [
        "### Utilizando Rando Forest:"
      ]
    },
    {
      "cell_type": "code",
      "metadata": {
        "colab": {
          "base_uri": "https://localhost:8080/"
        },
        "id": "uQ1ygC1G1Mao",
        "outputId": "f1ed83fb-0aec-4973-d953-6545e22c865d"
      },
      "source": [
        "df.columns"
      ],
      "execution_count": 61,
      "outputs": [
        {
          "output_type": "execute_result",
          "data": {
            "text/plain": [
              "Index(['R_fighter', 'B_fighter', 'Referee', 'City/State', 'Country', 'Winner',\n",
              "       'title_bout', 'weight_class', 'B_total_rounds_fought',\n",
              "       'B_total_title_bouts', 'B_wins', 'B_losses', 'B_draw',\n",
              "       'B_win_by_KO/TKO', 'B_Stance', 'B_Height_cms', 'B_Reach_cms',\n",
              "       'B_Weight_lbs', 'B_age', 'R_total_rounds_fought', 'R_total_title_bouts',\n",
              "       'R_wins', 'R_losses', 'R_draw', 'R_win_by_KO/TKO', 'R_Stance',\n",
              "       'R_Height_cms', 'R_Reach_cms', 'R_Weight_lbs', 'R_age'],\n",
              "      dtype='object')"
            ]
          },
          "metadata": {},
          "execution_count": 61
        }
      ]
    },
    {
      "cell_type": "code",
      "metadata": {
        "id": "lRktm0Yz1Map"
      },
      "source": [
        "#Características usadas\n",
        "caract = ['B_age', 'B_Height_cms', 'B_Reach_cms', 'B_Weight_lbs',\n",
        "         'R_age', 'R_Height_cms', 'R_Reach_cms', 'R_Weight_lbs']"
      ],
      "execution_count": 62,
      "outputs": []
    },
    {
      "cell_type": "code",
      "metadata": {
        "id": "kDZUZ1na1Map"
      },
      "source": [
        "# Rótulos usados\n",
        "label = ['Winner']"
      ],
      "execution_count": 63,
      "outputs": []
    },
    {
      "cell_type": "code",
      "metadata": {
        "id": "Qu2XbRTy1Maq"
      },
      "source": [
        "df_rnd = df[['B_age', 'B_Height_cms', 'B_Reach_cms', 'B_Weight_lbs',\n",
        "         'R_age', 'R_Height_cms', 'R_Reach_cms', 'R_Weight_lbs', 'Winner']]"
      ],
      "execution_count": 64,
      "outputs": []
    },
    {
      "cell_type": "code",
      "metadata": {
        "colab": {
          "base_uri": "https://localhost:8080/",
          "height": 0
        },
        "id": "PsXtDDtm1Maq",
        "outputId": "06dcf980-e802-4a9c-eb23-573aaec0a002"
      },
      "source": [
        "df_rnd.head()"
      ],
      "execution_count": 65,
      "outputs": [
        {
          "output_type": "execute_result",
          "data": {
            "text/html": [
              "<div>\n",
              "<style scoped>\n",
              "    .dataframe tbody tr th:only-of-type {\n",
              "        vertical-align: middle;\n",
              "    }\n",
              "\n",
              "    .dataframe tbody tr th {\n",
              "        vertical-align: top;\n",
              "    }\n",
              "\n",
              "    .dataframe thead th {\n",
              "        text-align: right;\n",
              "    }\n",
              "</style>\n",
              "<table border=\"1\" class=\"dataframe\">\n",
              "  <thead>\n",
              "    <tr style=\"text-align: right;\">\n",
              "      <th></th>\n",
              "      <th>B_age</th>\n",
              "      <th>B_Height_cms</th>\n",
              "      <th>B_Reach_cms</th>\n",
              "      <th>B_Weight_lbs</th>\n",
              "      <th>R_age</th>\n",
              "      <th>R_Height_cms</th>\n",
              "      <th>R_Reach_cms</th>\n",
              "      <th>R_Weight_lbs</th>\n",
              "      <th>Winner</th>\n",
              "    </tr>\n",
              "    <tr>\n",
              "      <th>date</th>\n",
              "      <th></th>\n",
              "      <th></th>\n",
              "      <th></th>\n",
              "      <th></th>\n",
              "      <th></th>\n",
              "      <th></th>\n",
              "      <th></th>\n",
              "      <th></th>\n",
              "      <th></th>\n",
              "    </tr>\n",
              "  </thead>\n",
              "  <tbody>\n",
              "    <tr>\n",
              "      <th>2019-06-08</th>\n",
              "      <td>32.0</td>\n",
              "      <td>167.64</td>\n",
              "      <td>165.10</td>\n",
              "      <td>135.0</td>\n",
              "      <td>29.0</td>\n",
              "      <td>170.18</td>\n",
              "      <td>180.34</td>\n",
              "      <td>135.0</td>\n",
              "      <td>Red</td>\n",
              "    </tr>\n",
              "    <tr>\n",
              "      <th>2019-06-08</th>\n",
              "      <td>33.0</td>\n",
              "      <td>165.10</td>\n",
              "      <td>162.56</td>\n",
              "      <td>115.0</td>\n",
              "      <td>28.0</td>\n",
              "      <td>165.10</td>\n",
              "      <td>167.64</td>\n",
              "      <td>115.0</td>\n",
              "      <td>Red</td>\n",
              "    </tr>\n",
              "    <tr>\n",
              "      <th>2019-06-08</th>\n",
              "      <td>32.0</td>\n",
              "      <td>180.34</td>\n",
              "      <td>185.42</td>\n",
              "      <td>250.0</td>\n",
              "      <td>26.0</td>\n",
              "      <td>187.96</td>\n",
              "      <td>190.50</td>\n",
              "      <td>264.0</td>\n",
              "      <td>Blue</td>\n",
              "    </tr>\n",
              "    <tr>\n",
              "      <th>2019-06-08</th>\n",
              "      <td>32.0</td>\n",
              "      <td>167.64</td>\n",
              "      <td>167.64</td>\n",
              "      <td>125.0</td>\n",
              "      <td>31.0</td>\n",
              "      <td>165.10</td>\n",
              "      <td>167.64</td>\n",
              "      <td>125.0</td>\n",
              "      <td>Red</td>\n",
              "    </tr>\n",
              "    <tr>\n",
              "      <th>2019-06-08</th>\n",
              "      <td>26.0</td>\n",
              "      <td>170.18</td>\n",
              "      <td>170.18</td>\n",
              "      <td>135.0</td>\n",
              "      <td>29.0</td>\n",
              "      <td>162.56</td>\n",
              "      <td>172.72</td>\n",
              "      <td>135.0</td>\n",
              "      <td>Blue</td>\n",
              "    </tr>\n",
              "  </tbody>\n",
              "</table>\n",
              "</div>"
            ],
            "text/plain": [
              "            B_age  B_Height_cms  B_Reach_cms  ...  R_Reach_cms  R_Weight_lbs  Winner\n",
              "date                                          ...                                   \n",
              "2019-06-08   32.0        167.64       165.10  ...       180.34         135.0     Red\n",
              "2019-06-08   33.0        165.10       162.56  ...       167.64         115.0     Red\n",
              "2019-06-08   32.0        180.34       185.42  ...       190.50         264.0    Blue\n",
              "2019-06-08   32.0        167.64       167.64  ...       167.64         125.0     Red\n",
              "2019-06-08   26.0        170.18       170.18  ...       172.72         135.0    Blue\n",
              "\n",
              "[5 rows x 9 columns]"
            ]
          },
          "metadata": {},
          "execution_count": 65
        }
      ]
    },
    {
      "cell_type": "code",
      "metadata": {
        "id": "kXL-gBH01Mar"
      },
      "source": [
        "# Importação de LabelEncoder\n",
        "from sklearn import preprocessing\n",
        "\n",
        "label = list(df['Winner'])\n",
        "\n",
        "# criando labelEncoder\n",
        "le = preprocessing.LabelEncoder()\n",
        "\n",
        "# Convertendo os rótulos em números.\n",
        "label_encoded=le.fit_transform(label)\n",
        "\n",
        "#Blue = 0, Draw = 1 e Red = 2"
      ],
      "execution_count": 66,
      "outputs": []
    },
    {
      "cell_type": "code",
      "metadata": {
        "colab": {
          "base_uri": "https://localhost:8080/",
          "height": 0
        },
        "id": "AUIg7h1t1Mau",
        "outputId": "14eb6999-a93b-40c6-f788-3a38c0d1fdaf"
      },
      "source": [
        "df_rnd.drop('Winner', axis=1)"
      ],
      "execution_count": 67,
      "outputs": [
        {
          "output_type": "execute_result",
          "data": {
            "text/html": [
              "<div>\n",
              "<style scoped>\n",
              "    .dataframe tbody tr th:only-of-type {\n",
              "        vertical-align: middle;\n",
              "    }\n",
              "\n",
              "    .dataframe tbody tr th {\n",
              "        vertical-align: top;\n",
              "    }\n",
              "\n",
              "    .dataframe thead th {\n",
              "        text-align: right;\n",
              "    }\n",
              "</style>\n",
              "<table border=\"1\" class=\"dataframe\">\n",
              "  <thead>\n",
              "    <tr style=\"text-align: right;\">\n",
              "      <th></th>\n",
              "      <th>B_age</th>\n",
              "      <th>B_Height_cms</th>\n",
              "      <th>B_Reach_cms</th>\n",
              "      <th>B_Weight_lbs</th>\n",
              "      <th>R_age</th>\n",
              "      <th>R_Height_cms</th>\n",
              "      <th>R_Reach_cms</th>\n",
              "      <th>R_Weight_lbs</th>\n",
              "    </tr>\n",
              "    <tr>\n",
              "      <th>date</th>\n",
              "      <th></th>\n",
              "      <th></th>\n",
              "      <th></th>\n",
              "      <th></th>\n",
              "      <th></th>\n",
              "      <th></th>\n",
              "      <th></th>\n",
              "      <th></th>\n",
              "    </tr>\n",
              "  </thead>\n",
              "  <tbody>\n",
              "    <tr>\n",
              "      <th>2019-06-08</th>\n",
              "      <td>32.0</td>\n",
              "      <td>167.64</td>\n",
              "      <td>165.10</td>\n",
              "      <td>135.0</td>\n",
              "      <td>29.0</td>\n",
              "      <td>170.18</td>\n",
              "      <td>180.34</td>\n",
              "      <td>135.0</td>\n",
              "    </tr>\n",
              "    <tr>\n",
              "      <th>2019-06-08</th>\n",
              "      <td>33.0</td>\n",
              "      <td>165.10</td>\n",
              "      <td>162.56</td>\n",
              "      <td>115.0</td>\n",
              "      <td>28.0</td>\n",
              "      <td>165.10</td>\n",
              "      <td>167.64</td>\n",
              "      <td>115.0</td>\n",
              "    </tr>\n",
              "    <tr>\n",
              "      <th>2019-06-08</th>\n",
              "      <td>32.0</td>\n",
              "      <td>180.34</td>\n",
              "      <td>185.42</td>\n",
              "      <td>250.0</td>\n",
              "      <td>26.0</td>\n",
              "      <td>187.96</td>\n",
              "      <td>190.50</td>\n",
              "      <td>264.0</td>\n",
              "    </tr>\n",
              "    <tr>\n",
              "      <th>2019-06-08</th>\n",
              "      <td>32.0</td>\n",
              "      <td>167.64</td>\n",
              "      <td>167.64</td>\n",
              "      <td>125.0</td>\n",
              "      <td>31.0</td>\n",
              "      <td>165.10</td>\n",
              "      <td>167.64</td>\n",
              "      <td>125.0</td>\n",
              "    </tr>\n",
              "    <tr>\n",
              "      <th>2019-06-08</th>\n",
              "      <td>26.0</td>\n",
              "      <td>170.18</td>\n",
              "      <td>170.18</td>\n",
              "      <td>135.0</td>\n",
              "      <td>29.0</td>\n",
              "      <td>162.56</td>\n",
              "      <td>172.72</td>\n",
              "      <td>135.0</td>\n",
              "    </tr>\n",
              "    <tr>\n",
              "      <th>...</th>\n",
              "      <td>...</td>\n",
              "      <td>...</td>\n",
              "      <td>...</td>\n",
              "      <td>...</td>\n",
              "      <td>...</td>\n",
              "      <td>...</td>\n",
              "      <td>...</td>\n",
              "      <td>...</td>\n",
              "    </tr>\n",
              "    <tr>\n",
              "      <th>2010-01-02</th>\n",
              "      <td>25.0</td>\n",
              "      <td>177.80</td>\n",
              "      <td>180.34</td>\n",
              "      <td>155.0</td>\n",
              "      <td>25.0</td>\n",
              "      <td>175.26</td>\n",
              "      <td>177.80</td>\n",
              "      <td>155.0</td>\n",
              "    </tr>\n",
              "    <tr>\n",
              "      <th>2010-01-02</th>\n",
              "      <td>27.0</td>\n",
              "      <td>187.96</td>\n",
              "      <td>187.96</td>\n",
              "      <td>205.0</td>\n",
              "      <td>30.0</td>\n",
              "      <td>182.88</td>\n",
              "      <td>190.50</td>\n",
              "      <td>205.0</td>\n",
              "    </tr>\n",
              "    <tr>\n",
              "      <th>2010-01-02</th>\n",
              "      <td>32.0</td>\n",
              "      <td>185.42</td>\n",
              "      <td>193.04</td>\n",
              "      <td>185.0</td>\n",
              "      <td>31.0</td>\n",
              "      <td>182.88</td>\n",
              "      <td>180.34</td>\n",
              "      <td>185.0</td>\n",
              "    </tr>\n",
              "    <tr>\n",
              "      <th>2010-01-02</th>\n",
              "      <td>30.0</td>\n",
              "      <td>175.26</td>\n",
              "      <td>175.26</td>\n",
              "      <td>155.0</td>\n",
              "      <td>27.0</td>\n",
              "      <td>172.72</td>\n",
              "      <td>180.34</td>\n",
              "      <td>155.0</td>\n",
              "    </tr>\n",
              "    <tr>\n",
              "      <th>2010-01-02</th>\n",
              "      <td>34.0</td>\n",
              "      <td>182.88</td>\n",
              "      <td>187.96</td>\n",
              "      <td>170.0</td>\n",
              "      <td>24.0</td>\n",
              "      <td>175.26</td>\n",
              "      <td>180.34</td>\n",
              "      <td>170.0</td>\n",
              "    </tr>\n",
              "  </tbody>\n",
              "</table>\n",
              "<p>3108 rows × 8 columns</p>\n",
              "</div>"
            ],
            "text/plain": [
              "            B_age  B_Height_cms  ...  R_Reach_cms  R_Weight_lbs\n",
              "date                             ...                           \n",
              "2019-06-08   32.0        167.64  ...       180.34         135.0\n",
              "2019-06-08   33.0        165.10  ...       167.64         115.0\n",
              "2019-06-08   32.0        180.34  ...       190.50         264.0\n",
              "2019-06-08   32.0        167.64  ...       167.64         125.0\n",
              "2019-06-08   26.0        170.18  ...       172.72         135.0\n",
              "...           ...           ...  ...          ...           ...\n",
              "2010-01-02   25.0        177.80  ...       177.80         155.0\n",
              "2010-01-02   27.0        187.96  ...       190.50         205.0\n",
              "2010-01-02   32.0        185.42  ...       180.34         185.0\n",
              "2010-01-02   30.0        175.26  ...       180.34         155.0\n",
              "2010-01-02   34.0        182.88  ...       180.34         170.0\n",
              "\n",
              "[3108 rows x 8 columns]"
            ]
          },
          "metadata": {},
          "execution_count": 67
        }
      ]
    },
    {
      "cell_type": "code",
      "metadata": {
        "id": "M5DDuCET1Mav"
      },
      "source": [
        "lbl= {'Winner': label_encoded}\n",
        "df_lbl = pd.DataFrame(lbl)\n",
        "\n",
        "df_rnd = df_rnd.assign(Winner=label_encoded)"
      ],
      "execution_count": 68,
      "outputs": []
    },
    {
      "cell_type": "code",
      "metadata": {
        "colab": {
          "base_uri": "https://localhost:8080/",
          "height": 0
        },
        "id": "PLFOSbXC1Mav",
        "outputId": "4913db87-f8a1-4700-b8c2-3680e51cf370"
      },
      "source": [
        "df_rnd.head(15)"
      ],
      "execution_count": 69,
      "outputs": [
        {
          "output_type": "execute_result",
          "data": {
            "text/html": [
              "<div>\n",
              "<style scoped>\n",
              "    .dataframe tbody tr th:only-of-type {\n",
              "        vertical-align: middle;\n",
              "    }\n",
              "\n",
              "    .dataframe tbody tr th {\n",
              "        vertical-align: top;\n",
              "    }\n",
              "\n",
              "    .dataframe thead th {\n",
              "        text-align: right;\n",
              "    }\n",
              "</style>\n",
              "<table border=\"1\" class=\"dataframe\">\n",
              "  <thead>\n",
              "    <tr style=\"text-align: right;\">\n",
              "      <th></th>\n",
              "      <th>B_age</th>\n",
              "      <th>B_Height_cms</th>\n",
              "      <th>B_Reach_cms</th>\n",
              "      <th>B_Weight_lbs</th>\n",
              "      <th>R_age</th>\n",
              "      <th>R_Height_cms</th>\n",
              "      <th>R_Reach_cms</th>\n",
              "      <th>R_Weight_lbs</th>\n",
              "      <th>Winner</th>\n",
              "    </tr>\n",
              "    <tr>\n",
              "      <th>date</th>\n",
              "      <th></th>\n",
              "      <th></th>\n",
              "      <th></th>\n",
              "      <th></th>\n",
              "      <th></th>\n",
              "      <th></th>\n",
              "      <th></th>\n",
              "      <th></th>\n",
              "      <th></th>\n",
              "    </tr>\n",
              "  </thead>\n",
              "  <tbody>\n",
              "    <tr>\n",
              "      <th>2019-06-08</th>\n",
              "      <td>32.0</td>\n",
              "      <td>167.64</td>\n",
              "      <td>165.10</td>\n",
              "      <td>135.0</td>\n",
              "      <td>29.0</td>\n",
              "      <td>170.18</td>\n",
              "      <td>180.34</td>\n",
              "      <td>135.0</td>\n",
              "      <td>2</td>\n",
              "    </tr>\n",
              "    <tr>\n",
              "      <th>2019-06-08</th>\n",
              "      <td>33.0</td>\n",
              "      <td>165.10</td>\n",
              "      <td>162.56</td>\n",
              "      <td>115.0</td>\n",
              "      <td>28.0</td>\n",
              "      <td>165.10</td>\n",
              "      <td>167.64</td>\n",
              "      <td>115.0</td>\n",
              "      <td>2</td>\n",
              "    </tr>\n",
              "    <tr>\n",
              "      <th>2019-06-08</th>\n",
              "      <td>32.0</td>\n",
              "      <td>180.34</td>\n",
              "      <td>185.42</td>\n",
              "      <td>250.0</td>\n",
              "      <td>26.0</td>\n",
              "      <td>187.96</td>\n",
              "      <td>190.50</td>\n",
              "      <td>264.0</td>\n",
              "      <td>0</td>\n",
              "    </tr>\n",
              "    <tr>\n",
              "      <th>2019-06-08</th>\n",
              "      <td>32.0</td>\n",
              "      <td>167.64</td>\n",
              "      <td>167.64</td>\n",
              "      <td>125.0</td>\n",
              "      <td>31.0</td>\n",
              "      <td>165.10</td>\n",
              "      <td>167.64</td>\n",
              "      <td>125.0</td>\n",
              "      <td>2</td>\n",
              "    </tr>\n",
              "    <tr>\n",
              "      <th>2019-06-08</th>\n",
              "      <td>26.0</td>\n",
              "      <td>170.18</td>\n",
              "      <td>170.18</td>\n",
              "      <td>135.0</td>\n",
              "      <td>29.0</td>\n",
              "      <td>162.56</td>\n",
              "      <td>172.72</td>\n",
              "      <td>135.0</td>\n",
              "      <td>0</td>\n",
              "    </tr>\n",
              "    <tr>\n",
              "      <th>2019-06-08</th>\n",
              "      <td>36.0</td>\n",
              "      <td>185.42</td>\n",
              "      <td>185.42</td>\n",
              "      <td>155.0</td>\n",
              "      <td>35.0</td>\n",
              "      <td>180.34</td>\n",
              "      <td>193.04</td>\n",
              "      <td>155.0</td>\n",
              "      <td>2</td>\n",
              "    </tr>\n",
              "    <tr>\n",
              "      <th>2019-06-08</th>\n",
              "      <td>25.0</td>\n",
              "      <td>165.10</td>\n",
              "      <td>167.64</td>\n",
              "      <td>125.0</td>\n",
              "      <td>33.0</td>\n",
              "      <td>160.02</td>\n",
              "      <td>162.56</td>\n",
              "      <td>115.0</td>\n",
              "      <td>0</td>\n",
              "    </tr>\n",
              "    <tr>\n",
              "      <th>2019-06-08</th>\n",
              "      <td>31.0</td>\n",
              "      <td>167.64</td>\n",
              "      <td>170.18</td>\n",
              "      <td>135.0</td>\n",
              "      <td>32.0</td>\n",
              "      <td>162.56</td>\n",
              "      <td>162.56</td>\n",
              "      <td>135.0</td>\n",
              "      <td>2</td>\n",
              "    </tr>\n",
              "    <tr>\n",
              "      <th>2019-06-08</th>\n",
              "      <td>34.0</td>\n",
              "      <td>160.02</td>\n",
              "      <td>162.56</td>\n",
              "      <td>115.0</td>\n",
              "      <td>29.0</td>\n",
              "      <td>165.10</td>\n",
              "      <td>160.02</td>\n",
              "      <td>115.0</td>\n",
              "      <td>2</td>\n",
              "    </tr>\n",
              "    <tr>\n",
              "      <th>2019-06-08</th>\n",
              "      <td>33.0</td>\n",
              "      <td>167.64</td>\n",
              "      <td>165.10</td>\n",
              "      <td>125.0</td>\n",
              "      <td>30.0</td>\n",
              "      <td>175.26</td>\n",
              "      <td>172.72</td>\n",
              "      <td>125.0</td>\n",
              "      <td>2</td>\n",
              "    </tr>\n",
              "    <tr>\n",
              "      <th>2019-06-08</th>\n",
              "      <td>28.0</td>\n",
              "      <td>182.88</td>\n",
              "      <td>187.96</td>\n",
              "      <td>185.0</td>\n",
              "      <td>28.0</td>\n",
              "      <td>190.50</td>\n",
              "      <td>200.66</td>\n",
              "      <td>185.0</td>\n",
              "      <td>0</td>\n",
              "    </tr>\n",
              "    <tr>\n",
              "      <th>2019-06-08</th>\n",
              "      <td>31.0</td>\n",
              "      <td>180.34</td>\n",
              "      <td>182.88</td>\n",
              "      <td>145.0</td>\n",
              "      <td>37.0</td>\n",
              "      <td>172.72</td>\n",
              "      <td>180.34</td>\n",
              "      <td>145.0</td>\n",
              "      <td>0</td>\n",
              "    </tr>\n",
              "    <tr>\n",
              "      <th>2019-06-08</th>\n",
              "      <td>35.0</td>\n",
              "      <td>170.18</td>\n",
              "      <td>172.72</td>\n",
              "      <td>135.0</td>\n",
              "      <td>34.0</td>\n",
              "      <td>170.18</td>\n",
              "      <td>175.26</td>\n",
              "      <td>135.0</td>\n",
              "      <td>2</td>\n",
              "    </tr>\n",
              "    <tr>\n",
              "      <th>2019-05-18</th>\n",
              "      <td>27.0</td>\n",
              "      <td>177.80</td>\n",
              "      <td>180.34</td>\n",
              "      <td>155.0</td>\n",
              "      <td>32.0</td>\n",
              "      <td>167.64</td>\n",
              "      <td>177.80</td>\n",
              "      <td>155.0</td>\n",
              "      <td>2</td>\n",
              "    </tr>\n",
              "    <tr>\n",
              "      <th>2019-05-18</th>\n",
              "      <td>31.0</td>\n",
              "      <td>177.80</td>\n",
              "      <td>182.88</td>\n",
              "      <td>170.0</td>\n",
              "      <td>27.0</td>\n",
              "      <td>180.34</td>\n",
              "      <td>190.50</td>\n",
              "      <td>170.0</td>\n",
              "      <td>2</td>\n",
              "    </tr>\n",
              "  </tbody>\n",
              "</table>\n",
              "</div>"
            ],
            "text/plain": [
              "            B_age  B_Height_cms  B_Reach_cms  ...  R_Reach_cms  R_Weight_lbs  Winner\n",
              "date                                          ...                                   \n",
              "2019-06-08   32.0        167.64       165.10  ...       180.34         135.0       2\n",
              "2019-06-08   33.0        165.10       162.56  ...       167.64         115.0       2\n",
              "2019-06-08   32.0        180.34       185.42  ...       190.50         264.0       0\n",
              "2019-06-08   32.0        167.64       167.64  ...       167.64         125.0       2\n",
              "2019-06-08   26.0        170.18       170.18  ...       172.72         135.0       0\n",
              "2019-06-08   36.0        185.42       185.42  ...       193.04         155.0       2\n",
              "2019-06-08   25.0        165.10       167.64  ...       162.56         115.0       0\n",
              "2019-06-08   31.0        167.64       170.18  ...       162.56         135.0       2\n",
              "2019-06-08   34.0        160.02       162.56  ...       160.02         115.0       2\n",
              "2019-06-08   33.0        167.64       165.10  ...       172.72         125.0       2\n",
              "2019-06-08   28.0        182.88       187.96  ...       200.66         185.0       0\n",
              "2019-06-08   31.0        180.34       182.88  ...       180.34         145.0       0\n",
              "2019-06-08   35.0        170.18       172.72  ...       175.26         135.0       2\n",
              "2019-05-18   27.0        177.80       180.34  ...       177.80         155.0       2\n",
              "2019-05-18   31.0        177.80       182.88  ...       190.50         170.0       2\n",
              "\n",
              "[15 rows x 9 columns]"
            ]
          },
          "metadata": {},
          "execution_count": 69
        }
      ]
    },
    {
      "cell_type": "code",
      "metadata": {
        "id": "JXce3sE31Maw"
      },
      "source": [
        "# Importa a função train_test_split\n",
        "from sklearn.model_selection import train_test_split\n",
        "\n",
        "X=df_rnd[['B_age', 'B_Height_cms', 'B_Reach_cms', 'B_Weight_lbs',\n",
        "          'R_age', 'R_Height_cms', 'R_Reach_cms', 'R_Weight_lbs']]  # Características\n",
        "y=df_rnd['Winner']  # Rótulos\n",
        "\n",
        "# Separa a conjunto de dados em treinamento e teste\n",
        "X_train, X_test, y_train, y_test = train_test_split(X, y, test_size=0.3) # 70% para treinamento e 30% para teste"
      ],
      "execution_count": 70,
      "outputs": []
    },
    {
      "cell_type": "code",
      "metadata": {
        "id": "3DvDx-QE1Maw"
      },
      "source": [
        "# Importa o classificador Random Forest\n",
        "from sklearn.ensemble import RandomForestClassifier\n",
        "\n",
        "# Cria o classificador\n",
        "clf=RandomForestClassifier(n_estimators=100)\n",
        "\n",
        "# Treina o modelo usando os conjuntos de treinamento (características e rótulo para predição)\n",
        "clf.fit(X_train,y_train)\n",
        "\n",
        "y_pred=clf.predict(X_test)"
      ],
      "execution_count": 71,
      "outputs": []
    },
    {
      "cell_type": "code",
      "metadata": {
        "colab": {
          "base_uri": "https://localhost:8080/"
        },
        "id": "RfqzBcGX1Max",
        "outputId": "04422a43-4e42-41e7-d7f5-24ce636dde1c"
      },
      "source": [
        "# Importa o módulo metrics de scikit-learn metrics para cálculo de acurácia\n",
        "from sklearn import metrics\n",
        "\n",
        "# Modelo de acurácia; com qual frequência o classificador é correto?\n",
        "print(\"Accuracy:\",metrics.accuracy_score(y_test, y_pred))"
      ],
      "execution_count": 72,
      "outputs": [
        {
          "output_type": "stream",
          "name": "stdout",
          "text": [
            "Accuracy: 0.5466237942122186\n"
          ]
        }
      ]
    },
    {
      "cell_type": "code",
      "metadata": {
        "colab": {
          "base_uri": "https://localhost:8080/",
          "height": 0
        },
        "id": "wf5X4dXI1Max",
        "outputId": "9d2c59d4-20f0-40ba-8080-91e131a03557"
      },
      "source": [
        "df_rnd.head()"
      ],
      "execution_count": 73,
      "outputs": [
        {
          "output_type": "execute_result",
          "data": {
            "text/html": [
              "<div>\n",
              "<style scoped>\n",
              "    .dataframe tbody tr th:only-of-type {\n",
              "        vertical-align: middle;\n",
              "    }\n",
              "\n",
              "    .dataframe tbody tr th {\n",
              "        vertical-align: top;\n",
              "    }\n",
              "\n",
              "    .dataframe thead th {\n",
              "        text-align: right;\n",
              "    }\n",
              "</style>\n",
              "<table border=\"1\" class=\"dataframe\">\n",
              "  <thead>\n",
              "    <tr style=\"text-align: right;\">\n",
              "      <th></th>\n",
              "      <th>B_age</th>\n",
              "      <th>B_Height_cms</th>\n",
              "      <th>B_Reach_cms</th>\n",
              "      <th>B_Weight_lbs</th>\n",
              "      <th>R_age</th>\n",
              "      <th>R_Height_cms</th>\n",
              "      <th>R_Reach_cms</th>\n",
              "      <th>R_Weight_lbs</th>\n",
              "      <th>Winner</th>\n",
              "    </tr>\n",
              "    <tr>\n",
              "      <th>date</th>\n",
              "      <th></th>\n",
              "      <th></th>\n",
              "      <th></th>\n",
              "      <th></th>\n",
              "      <th></th>\n",
              "      <th></th>\n",
              "      <th></th>\n",
              "      <th></th>\n",
              "      <th></th>\n",
              "    </tr>\n",
              "  </thead>\n",
              "  <tbody>\n",
              "    <tr>\n",
              "      <th>2019-06-08</th>\n",
              "      <td>32.0</td>\n",
              "      <td>167.64</td>\n",
              "      <td>165.10</td>\n",
              "      <td>135.0</td>\n",
              "      <td>29.0</td>\n",
              "      <td>170.18</td>\n",
              "      <td>180.34</td>\n",
              "      <td>135.0</td>\n",
              "      <td>2</td>\n",
              "    </tr>\n",
              "    <tr>\n",
              "      <th>2019-06-08</th>\n",
              "      <td>33.0</td>\n",
              "      <td>165.10</td>\n",
              "      <td>162.56</td>\n",
              "      <td>115.0</td>\n",
              "      <td>28.0</td>\n",
              "      <td>165.10</td>\n",
              "      <td>167.64</td>\n",
              "      <td>115.0</td>\n",
              "      <td>2</td>\n",
              "    </tr>\n",
              "    <tr>\n",
              "      <th>2019-06-08</th>\n",
              "      <td>32.0</td>\n",
              "      <td>180.34</td>\n",
              "      <td>185.42</td>\n",
              "      <td>250.0</td>\n",
              "      <td>26.0</td>\n",
              "      <td>187.96</td>\n",
              "      <td>190.50</td>\n",
              "      <td>264.0</td>\n",
              "      <td>0</td>\n",
              "    </tr>\n",
              "    <tr>\n",
              "      <th>2019-06-08</th>\n",
              "      <td>32.0</td>\n",
              "      <td>167.64</td>\n",
              "      <td>167.64</td>\n",
              "      <td>125.0</td>\n",
              "      <td>31.0</td>\n",
              "      <td>165.10</td>\n",
              "      <td>167.64</td>\n",
              "      <td>125.0</td>\n",
              "      <td>2</td>\n",
              "    </tr>\n",
              "    <tr>\n",
              "      <th>2019-06-08</th>\n",
              "      <td>26.0</td>\n",
              "      <td>170.18</td>\n",
              "      <td>170.18</td>\n",
              "      <td>135.0</td>\n",
              "      <td>29.0</td>\n",
              "      <td>162.56</td>\n",
              "      <td>172.72</td>\n",
              "      <td>135.0</td>\n",
              "      <td>0</td>\n",
              "    </tr>\n",
              "  </tbody>\n",
              "</table>\n",
              "</div>"
            ],
            "text/plain": [
              "            B_age  B_Height_cms  B_Reach_cms  ...  R_Reach_cms  R_Weight_lbs  Winner\n",
              "date                                          ...                                   \n",
              "2019-06-08   32.0        167.64       165.10  ...       180.34         135.0       2\n",
              "2019-06-08   33.0        165.10       162.56  ...       167.64         115.0       2\n",
              "2019-06-08   32.0        180.34       185.42  ...       190.50         264.0       0\n",
              "2019-06-08   32.0        167.64       167.64  ...       167.64         125.0       2\n",
              "2019-06-08   26.0        170.18       170.18  ...       172.72         135.0       0\n",
              "\n",
              "[5 rows x 9 columns]"
            ]
          },
          "metadata": {},
          "execution_count": 73
        }
      ]
    },
    {
      "cell_type": "code",
      "metadata": {
        "colab": {
          "base_uri": "https://localhost:8080/"
        },
        "id": "WSwAAEaW1May",
        "outputId": "0e758d13-8cf3-43c3-b04e-86329aa8cf2d"
      },
      "source": [
        "# Realiza a predição com base em um nova entrada\n",
        "clf.predict([[31, 165.10, 170.18, 135, 27, 170.18, 177.80, 135]])"
      ],
      "execution_count": 74,
      "outputs": [
        {
          "output_type": "execute_result",
          "data": {
            "text/plain": [
              "array([2])"
            ]
          },
          "metadata": {},
          "execution_count": 74
        }
      ]
    },
    {
      "cell_type": "code",
      "metadata": {
        "colab": {
          "base_uri": "https://localhost:8080/"
        },
        "id": "vUj4i6rK1May",
        "outputId": "ca9990cd-ab92-4d03-a3c0-4a75f7c51b2f"
      },
      "source": [
        "# Realiza a predição com base em um nova entrada\n",
        "clf.predict([[28.0,152.40,154.94,115.0,25.0,160.02,160.02,115.0]])"
      ],
      "execution_count": 75,
      "outputs": [
        {
          "output_type": "execute_result",
          "data": {
            "text/plain": [
              "array([2])"
            ]
          },
          "metadata": {},
          "execution_count": 75
        }
      ]
    },
    {
      "cell_type": "code",
      "metadata": {
        "colab": {
          "base_uri": "https://localhost:8080/"
        },
        "id": "bNmj9tfj1Maz",
        "outputId": "66589e95-25fa-44d5-b98a-632de504995f"
      },
      "source": [
        "# Realiza a predição com base em um nova entrada\n",
        "clf.predict([[20.0,162.40,144.94,115.0,27.0,170.02,160.02,130.0]])"
      ],
      "execution_count": 76,
      "outputs": [
        {
          "output_type": "execute_result",
          "data": {
            "text/plain": [
              "array([2])"
            ]
          },
          "metadata": {},
          "execution_count": 76
        }
      ]
    },
    {
      "cell_type": "code",
      "metadata": {
        "id": "KQ-nUChb1Ma1"
      },
      "source": [
        ""
      ],
      "execution_count": 76,
      "outputs": []
    },
    {
      "cell_type": "code",
      "metadata": {
        "colab": {
          "base_uri": "https://localhost:8080/"
        },
        "id": "q6e8GDhu1Ma1",
        "outputId": "a69d4fac-2513-4552-a9ef-df635cf94c67"
      },
      "source": [
        "# Importa o classificador Random Forest\n",
        "from sklearn.ensemble import RandomForestClassifier\n",
        "\n",
        "# Cria o classificador\n",
        "clf=RandomForestClassifier(n_estimators=100)\n",
        "\n",
        "# Treina o modelo usando os conjuntos de treinamento (características e rótulo para predição)\n",
        "clf.fit(X_train,y_train)"
      ],
      "execution_count": 77,
      "outputs": [
        {
          "output_type": "execute_result",
          "data": {
            "text/plain": [
              "RandomForestClassifier(bootstrap=True, ccp_alpha=0.0, class_weight=None,\n",
              "                       criterion='gini', max_depth=None, max_features='auto',\n",
              "                       max_leaf_nodes=None, max_samples=None,\n",
              "                       min_impurity_decrease=0.0, min_impurity_split=None,\n",
              "                       min_samples_leaf=1, min_samples_split=2,\n",
              "                       min_weight_fraction_leaf=0.0, n_estimators=100,\n",
              "                       n_jobs=None, oob_score=False, random_state=None,\n",
              "                       verbose=0, warm_start=False)"
            ]
          },
          "metadata": {},
          "execution_count": 77
        }
      ]
    },
    {
      "cell_type": "code",
      "metadata": {
        "colab": {
          "base_uri": "https://localhost:8080/"
        },
        "id": "ADn6flU-1Ma2",
        "outputId": "d85e6dd0-c12f-4009-9041-d7388b2d2992"
      },
      "source": [
        "#n_jobs=2\n",
        "RandomForestClassifier(bootstrap=True, class_weight=None, criterion='gini',\n",
        "            max_depth=None, max_features='auto', max_leaf_nodes=None,\n",
        "            min_impurity_decrease=0.0, min_impurity_split=None,\n",
        "            min_samples_leaf=1, min_samples_split=2,\n",
        "            min_weight_fraction_leaf=0.0, n_estimators=100, n_jobs=2,\n",
        "            oob_score=False, random_state=None, verbose=0,\n",
        "            warm_start=False)"
      ],
      "execution_count": 78,
      "outputs": [
        {
          "output_type": "execute_result",
          "data": {
            "text/plain": [
              "RandomForestClassifier(bootstrap=True, ccp_alpha=0.0, class_weight=None,\n",
              "                       criterion='gini', max_depth=None, max_features='auto',\n",
              "                       max_leaf_nodes=None, max_samples=None,\n",
              "                       min_impurity_decrease=0.0, min_impurity_split=None,\n",
              "                       min_samples_leaf=1, min_samples_split=2,\n",
              "                       min_weight_fraction_leaf=0.0, n_estimators=100, n_jobs=2,\n",
              "                       oob_score=False, random_state=None, verbose=0,\n",
              "                       warm_start=False)"
            ]
          },
          "metadata": {},
          "execution_count": 78
        }
      ]
    },
    {
      "cell_type": "code",
      "metadata": {
        "colab": {
          "base_uri": "https://localhost:8080/"
        },
        "id": "72qOoxp71Ma3",
        "outputId": "1243d8dc-76a1-4374-893b-74653a6d60db"
      },
      "source": [
        "feature_imp = pd.Series(clf.feature_importances_,index=df_rnd.columns[0:8]).sort_values(ascending=False)\n",
        "feature_imp"
      ],
      "execution_count": 79,
      "outputs": [
        {
          "output_type": "execute_result",
          "data": {
            "text/plain": [
              "R_age           0.163444\n",
              "B_age           0.163216\n",
              "R_Reach_cms     0.136321\n",
              "B_Reach_cms     0.132640\n",
              "B_Height_cms    0.122981\n",
              "R_Height_cms    0.118542\n",
              "B_Weight_lbs    0.083472\n",
              "R_Weight_lbs    0.079384\n",
              "dtype: float64"
            ]
          },
          "metadata": {},
          "execution_count": 79
        }
      ]
    },
    {
      "cell_type": "code",
      "metadata": {
        "id": "aLS1QbdJ1Ma3"
      },
      "source": [
        "#Os pesos não estão tendo muita relevância"
      ],
      "execution_count": 80,
      "outputs": []
    },
    {
      "cell_type": "code",
      "metadata": {
        "colab": {
          "base_uri": "https://localhost:8080/",
          "height": 0
        },
        "id": "4iE9eOkO1Ma4",
        "outputId": "7dca1685-444c-4dc7-a5e8-6db93fac2681"
      },
      "source": [
        "import matplotlib.pyplot as plt\n",
        "import seaborn as sns\n",
        "%matplotlib inline\n",
        "# Cria um plotagem de barra\n",
        "sns.barplot(x=feature_imp, y=feature_imp.index)\n",
        "# Adiciona rótulos para o gráfico\n",
        "plt.xlabel('Importância da Característica')\n",
        "plt.ylabel('Características')\n",
        "plt.title(\"Visualização da Importância das Características\")\n",
        "plt.legend()\n",
        "plt.show()"
      ],
      "execution_count": 81,
      "outputs": [
        {
          "output_type": "stream",
          "name": "stderr",
          "text": [
            "No handles with labels found to put in legend.\n"
          ]
        },
        {
          "output_type": "display_data",
          "data": {
            "image/png": "[encoded data removed]",
            "text/plain": [
              "<Figure size 432x288 with 1 Axes>"
            ]
          },
          "metadata": {
            "needs_background": "light"
          }
        }
      ]
    },
    {
      "cell_type": "code",
      "metadata": {
        "id": "f4EwghsJ1Ma4"
      },
      "source": [
        "# Importa a função train_test_split\n",
        "from sklearn.model_selection import train_test_split\n",
        "\n",
        "X=df_rnd[['B_age', 'B_Height_cms', 'B_Reach_cms',\n",
        "          'R_age', 'R_Height_cms', 'R_Reach_cms']]  # Características\n",
        "y=df_rnd['Winner']  # Rótulos\n",
        "\n",
        "# Separa a conjunto de dados em treinamento e teste\n",
        "X_train, X_test, y_train, y_test = train_test_split(X, y, test_size=0.3) # 70% para treinamento e 30% para teste"
      ],
      "execution_count": 82,
      "outputs": []
    },
    {
      "cell_type": "code",
      "metadata": {
        "colab": {
          "base_uri": "https://localhost:8080/"
        },
        "id": "VCSTZaT11Ma5",
        "outputId": "c17a8414-721d-4ed7-9aa2-8a4d66148eed"
      },
      "source": [
        "from sklearn.ensemble import RandomForestClassifier\n",
        "\n",
        "# Cria o classificador\n",
        "clf=RandomForestClassifier(n_estimators=100)\n",
        "\n",
        "# Treina o modelo usando os conjuntos de treinamento (características e rótulo para predição)\n",
        "clf.fit(X_train,y_train)\n",
        "\n",
        "# Realiza a predição utilizando o conjunto de teste\n",
        "y_pred=clf.predict(X_test)\n",
        "\n",
        "# Importa o módulo metrics de scikit-learn metrics para cálculo de acurácia\n",
        "from sklearn import metrics\n",
        "\n",
        "# Modelo de acurácia; com qual frequência o classificador é correto?\n",
        "print(\"Accuracy:\",metrics.accuracy_score(y_test, y_pred))"
      ],
      "execution_count": 83,
      "outputs": [
        {
          "output_type": "stream",
          "name": "stdout",
          "text": [
            "Accuracy: 0.5348338692390139\n"
          ]
        }
      ]
    },
    {
      "cell_type": "code",
      "metadata": {
        "id": "OFgv8A541Ma6"
      },
      "source": [
        ""
      ],
      "execution_count": 83,
      "outputs": []
    }
  ]
}